{
 "cells": [
  {
   "cell_type": "markdown",
   "metadata": {},
   "source": [
    "# Samarbejds Kontrakt"
   ]
  },
  {
   "cell_type": "markdown",
   "metadata": {},
   "source": [
    "**Projekttitel:** Organ failure following cardiac surgery – the use of AI for prediction modelling\n",
    "\n",
    "**Gruppedeltagere:** Ditte Bjerrum Gilsfeldt (s210666), Lucia Han Lu (s224215), Muneer Kayali (s214642) og Viktor Skovlykke Sølvsten (s225784). \n",
    "\n",
    "**Vejleder:** Lars Grønlykke, Theis Skovgaard Itenov (Rigshospitalet) og Morten Mørup\n"
   ]
  },
  {
   "cell_type": "markdown",
   "metadata": {},
   "source": [
    "## 1 - Møder"
   ]
  },
  {
   "cell_type": "markdown",
   "metadata": {},
   "source": [
    "**a) Tid og sted:** Vil vi aftale en fast ugentlig mødedag? Hvor skal møderne foregå? Og hvad er tidsrammen for møderne? Kan nogle af møderne foregå over nettet?"
   ]
  },
  {
   "cell_type": "markdown",
   "metadata": {},
   "source": [
    "- **Mødedag:** Hver onsdag efter forelæsningen foregår fysiske møder\n",
    "\n",
    "\n",
    "- **Hvor skal møderne foregå?:** I 306 \"Auditoriet 34\" og i fællesarealerne (hvor der er plads)\n",
    "\n",
    "- **Tidsramme for møderne:** Fra 14:00 ish (når forelæsningen slutter) til 17:00, mere eller mindre angående arbejdsprocess\n",
    "\n",
    "\n",
    "- **Mulighed for møder over nettet:** Det er muligt at tage møder over nettet, som vil være møder ud over de fysiske møder vi afholder om onsdagen.\n",
    "\n",
    "- Der tales om flere fysiske møde dage, når vi nærer os projektskrivning"
   ]
  },
  {
   "cell_type": "markdown",
   "metadata": {},
   "source": [
    "**b) Afbud til møder:** Skal vi melde afbud til møder, hvis vi er forhindrede? Hvordan?\n"
   ]
  },
  {
   "cell_type": "markdown",
   "metadata": {},
   "source": [
    "- Informér om afbud på discord hurtigst muligt, gerne senest dagen inden. "
   ]
  },
  {
   "cell_type": "markdown",
   "metadata": {},
   "source": [
    "**c) Referat:** Vil vi tage referat til møderne? Hvad er deadline på udarbejdelse og fremsendelse af referat? Skal referaterne lægges på CampusNet?\n"
   ]
  },
  {
   "cell_type": "markdown",
   "metadata": {},
   "source": [
    "* Referat bliver tilføjet til logbogen.\n",
    "* Referatet skal udformes og tilføjes til logbogen, samme dage som mødet bliver afholdt.  \n"
   ]
  },
  {
   "cell_type": "markdown",
   "metadata": {},
   "source": [
    "**d) Roller:** Hvor ofte vil vi skiftes til at have forskellige roller (ordstyrer, mødeleder, referent, koordinator)?\n"
   ]
  },
  {
   "cell_type": "markdown",
   "metadata": {},
   "source": [
    "* Der skiftes til at tage referat, så det ikker bliver samme person til hvert møde der tager referat. \n",
    "  * Der bliver aftalt på mødet, hvem der er referant til næste møde"
   ]
  },
  {
   "cell_type": "markdown",
   "metadata": {},
   "source": [
    "**e) Beslutninger:** Hvordan vil vi træffe beslutninger - ved enighed eller ved flertalsafgørelser?\n"
   ]
  },
  {
   "cell_type": "markdown",
   "metadata": {},
   "source": [
    "- Beslutninger træffes foretrækkeligt i enighed, dog hvis samme emne bringes op flere end tre gange ved forsøg på at træffe en beslutning via enighed (uden at det lykkedes), så skiftes der til flertalsafgørelser."
   ]
  },
  {
   "cell_type": "markdown",
   "metadata": {},
   "source": [
    "## 2 - Kommunikation"
   ]
  },
  {
   "cell_type": "markdown",
   "metadata": {},
   "source": [
    "**Hvordan sikrer vi, at alle altid får den nødvendige information?**"
   ]
  },
  {
   "cell_type": "markdown",
   "metadata": {},
   "source": [
    "**a) Praktisk kommunikation:** pr. e-mail, chat, sms, telefon eller...? \n",
    "- Discord\n",
    "- Telefon numre:\n",
    "    -  Viktor: 31546685\n",
    "    - Muneer: 42774435\n",
    "    - Ditte: 28144705\n",
    " - Lucia: 30898906      "
   ]
  },
  {
   "cell_type": "markdown",
   "metadata": {},
   "source": [
    "**b) Faglig kommunikation:** pr. e-mail, via CampusNet eller…?\n",
    "- Discord\n",
    "    - Generelt vil største delen af vores kommunikation (hvis ikke alt) ske over vores egen dicord server.\n"
   ]
  },
  {
   "cell_type": "markdown",
   "metadata": {},
   "source": [
    "**c) Hvis gruppen både indeholder introverte og ekstroverte:** Hvordan håndterer vi det i det daglige arbejde?\n"
   ]
  },
  {
   "cell_type": "markdown",
   "metadata": {},
   "source": [
    "* Vi vil holde en sund balance mellem at møde fysisk og online.\n",
    "* Vi må også gerne bede hinanden om at være stille hvis der bliver talt for meget. \n",
    "* Der mås også gerne blive \"koblet\" fra det social ved brug af hører telefoner. \n",
    "  * Dog skal det være muligt at tage kontakt, hvis der opstår spørgsmål. "
   ]
  },
  {
   "cell_type": "markdown",
   "metadata": {},
   "source": [
    "## 3 - Indsats og Forventninger"
   ]
  },
  {
   "cell_type": "markdown",
   "metadata": {},
   "source": [
    "**a) Flekstid:** Skal hvert gruppemedlem lave lige meget altid? Eller er det okay, at vi yder forskelligt på forskellige tidspunkter?\n",
    "\n"
   ]
  },
  {
   "cell_type": "markdown",
   "metadata": {},
   "source": [
    "- Det er okay at yde på forskellige tidspunkter. \n",
    "  - Dog skal man bare have i mente at alle skal være med i projektet, samt at man skal tænkte på, at man arbejder med andre fag ved siden af. \n",
    "  - Det er eksepmelvis okay, hvis nogen føler for at læse/arbejde yderlige på projektet uden for aftalte arbejdstider, men hvor man så skal være god til at få de andre med på, hvad der er blevet tilføjet og lavet (eller ændret på), så alle er up-to-date med, hvad der sker i projektet.\n",
    "- Der forventes \"lige stor\" indsats.\n",
    "  - Her betyder \"lige stor\" indsats, at man har arbejdet i samme antal af timer.\n",
    "  - Eksempelvis, hvis en person har arbejdet med at forstå og lave noget kode i 3 timer, hvor en anden person har skrevet 4 sider i 3 timer, vil man på overfladen se, at den anden person har lavet \"mere\" end personen, der arbejdede på koden. Men idet begge har arbejdet i 3 timer, har de givet en \"lige stor\" indsat."
   ]
  },
  {
   "cell_type": "markdown",
   "metadata": {},
   "source": [
    "**b) Forventninger:** Hvad er gruppens succeskriterier? At alle har ejerskab for projektet og at alle føler, at vi lærer noget? Kun at bestå eksamen?\n"
   ]
  },
  {
   "cell_type": "markdown",
   "metadata": {},
   "source": [
    "- Der indsættes en indsats hvor man er gående efter en karakter på 10 eller 12 (optimalt 12 selvfølgelig). Følgende betyder blot, at vi alle i gruppen er enig i at arbejde hårdt på projektet og give den bedst mulige indsats der er at give."
   ]
  },
  {
   "cell_type": "markdown",
   "metadata": {},
   "source": [
    "**c) Ejerskab:** Hvordan vil vi hver især bidrage til at nå de fælles succeskriterier? Hvad er vi hver især gode til?\n"
   ]
  },
  {
   "cell_type": "markdown",
   "metadata": {},
   "source": [
    "- Generelt vil vi kommunikerer arbejdsprocesser over discord eller fysisk når vi er til møde, og fra dette vil vi hver i sær adapterer til hinanden og derfra få overblik over, hvor meget der skal bidrages til at nå diverse kriterier.\n",
    "    - Ved længervarende arbejde med projektet vil vi finde ud af, hvad vi hver især er gode til, og fra derfra ved vi mere præcist, hvordan vi skal forholde os til, hvordan vi hver især vil bidrage til fælles kriterier."
   ]
  },
  {
   "cell_type": "markdown",
   "metadata": {},
   "source": [
    "## 4 - Problemer"
   ]
  },
  {
   "cell_type": "markdown",
   "metadata": {},
   "source": [
    "Hvad vil vi som gruppe gøre, hvis et gruppemedlem altid kommer for sent til møderne eller afleverer for sent?\n"
   ]
  },
  {
   "cell_type": "markdown",
   "metadata": {},
   "source": [
    "- Tage en snak med personen, hvis det bliver et fast problem, og hvis det påvirker, hvor meget der bliver arbejdet på af projektet. \n",
    "    - Ved at tage en snak kan vi forhåbentlig motivere personen til at møde og aflevere ting til tiden, eller finde mulige andre løsninger og mere."
   ]
  },
  {
   "cell_type": "markdown",
   "metadata": {},
   "source": [
    "Hvad vil vi som gruppe gøre, hvis 2 eller flere gruppemedlemmer har dårlig kemi sammen - og det indvirker på gruppens arbejde?\n"
   ]
  },
  {
   "cell_type": "markdown",
   "metadata": {},
   "source": [
    "- Konfontrere begge parter og tage en seriøst snak for finde roden til problemerne. "
   ]
  },
  {
   "cell_type": "markdown",
   "metadata": {},
   "source": [
    "# Underskrift"
   ]
  },
  {
   "cell_type": "markdown",
   "metadata": {},
   "source": [
    "Samarbejdskontrakten skal underskrives af alle gruppemedlemmer og vedlægges som en del af jeres projektplan der afleveres uge 4 på Inside. \n",
    "\n",
    "Dette oplæg stammer fra kursusmaterialet i DTU’s pædagogiske kursus. Dog har jeg lavet enkle ændringer for at få det til at passe til Matematik og teknologis fælles ramme for fagprojekter.\n",
    "\n",
    "Peter Røgen.\n",
    "\n",
    "Disse rammer passer også til Kunstig Intelligens og Data fagprojekter. Morten Mørup"
   ]
  },
  {
   "cell_type": "markdown",
   "metadata": {},
   "source": [
    "<img src= \"img/2024-02-07-16-06-29.png\" style=\"width:50rem;\">"
   ]
  }
 ],
 "metadata": {
  "kernelspec": {
   "display_name": "Python 3",
   "language": "python",
   "name": "python3"
  },
  "language_info": {
   "name": "python",
   "version": "3.10.11"
  }
 },
 "nbformat": 4,
 "nbformat_minor": 2
}
