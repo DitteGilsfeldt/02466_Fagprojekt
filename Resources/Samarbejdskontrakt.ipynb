{
 "cells": [
  {
   "cell_type": "markdown",
   "metadata": {},
   "source": [
    "# Samarbejds Kontrakt"
   ]
  },
  {
   "cell_type": "markdown",
   "metadata": {},
   "source": [
    "**Projekttitel:** Organ failure following cardiac surgery – the use of AI for prediction modelling\n",
    "\n",
    "**Gruppedeltagere:** Ditte Bjerrum Gilsfeldt (s210666), Lucia Han Lu (s224215), Muneer Kayali (s214642) og Viktor Skovlykke Sølvsten (s225784). \n",
    "\n",
    "**Vejleder:** Lars Grønlykke, Theis Skovgaard Itenov (Rigshospitalet) og Morten Mørup\n"
   ]
  },
  {
   "cell_type": "markdown",
   "metadata": {},
   "source": [
    "## 1 - Møder"
   ]
  },
  {
   "cell_type": "markdown",
   "metadata": {},
   "source": [
    "**a) Tid og sted:** Vil vi aftale en fast ugentlig mødedag? Hvor skal møderne foregå? Og hvad er tidsrammen for møderne? Kan nogle af møderne foregå over nettet?\n",
    "\n",
    "\n"
   ]
  },
  {
   "cell_type": "markdown",
   "metadata": {},
   "source": [
    "**b) Afbud til møder:** Skal vi melde afbud til møder, hvis vi er forhindrede? Hvordan?\n"
   ]
  },
  {
   "cell_type": "markdown",
   "metadata": {},
   "source": [
    "**c) Referat:** Vil vi tage referat til møderne? Hvad er deadline på udarbejdelse og fremsendelse af referat? Skal referaterne lægges på CampusNet?\n"
   ]
  },
  {
   "cell_type": "markdown",
   "metadata": {},
   "source": [
    "**d) Roller:** Hvor ofte vil vi skiftes til at have forskellige roller (ordstyrer, mødeleder, referent, koordinator)?\n"
   ]
  },
  {
   "cell_type": "markdown",
   "metadata": {},
   "source": [
    "**e) Beslutninger:** Hvordan vil vi træffe beslutninger - ved enighed eller ved flertalsafgørelser?\n"
   ]
  },
  {
   "cell_type": "markdown",
   "metadata": {},
   "source": [
    "### Eksempler"
   ]
  },
  {
   "cell_type": "markdown",
   "metadata": {},
   "source": [
    "- Vi reserverer onsdag formiddag til gruppemøder. Normalt mødes vi kl. 9-12 i gruppelokale XX med mindre andet aftales på det forudgående møde.\n",
    "- Der tages kun referat hvis vi træffer beslutninger om projektet / projektforløbet. Vi skiftes til at lave referat.\n",
    "- .... \n"
   ]
  },
  {
   "cell_type": "markdown",
   "metadata": {},
   "source": [
    "## 2 - Kommunikation"
   ]
  },
  {
   "cell_type": "markdown",
   "metadata": {},
   "source": [
    "**Hvordan sikrer vi, at alle altid får den nødvendige information?**"
   ]
  },
  {
   "cell_type": "markdown",
   "metadata": {},
   "source": [
    "**a) Praktisk kommunikation:** pr. e-mail, chat, sms, telefon eller...? \n",
    "- Discord"
   ]
  },
  {
   "cell_type": "markdown",
   "metadata": {},
   "source": [
    "**b) Faglig kommunikation:** pr. e-mail, via CampusNet eller…?\n",
    "- Discord\n"
   ]
  },
  {
   "cell_type": "markdown",
   "metadata": {},
   "source": [
    "**c) Hvis gruppen både indeholder introverte og ekstroverte:** Hvordan håndterer vi det i det daglige arbejde?\n"
   ]
  },
  {
   "cell_type": "markdown",
   "metadata": {},
   "source": [
    "### Eksempler"
   ]
  },
  {
   "cell_type": "markdown",
   "metadata": {},
   "source": [
    "- Liste over e-mailadresser og mobilnumre lægges på CampusNet.\n",
    "- Praktisk information udveksles via sms eller mail.\n",
    "- Dokumenter til gruppearbejde lægges på CampusNet - og besked om nye/opdatererede dokumenter udsendes via CampusNet som mail og/eller sms.\n"
   ]
  },
  {
   "cell_type": "markdown",
   "metadata": {},
   "source": [
    "## 3 - Indsats og Forventninger"
   ]
  },
  {
   "cell_type": "markdown",
   "metadata": {},
   "source": [
    "**a) Flekstid:** Skal hvert gruppemedlem lave lige meget altid? Eller er det okay, at vi yder forskelligt på forskellige tidspunkter?\n"
   ]
  },
  {
   "cell_type": "markdown",
   "metadata": {},
   "source": [
    "**b) Forventninger:** Hvad er gruppens succeskriterier? At alle har ejerskab for projektet og at alle føler, at vi lærer noget? Kun at bestå eksamen?\n"
   ]
  },
  {
   "cell_type": "markdown",
   "metadata": {},
   "source": [
    "**c) Ejerskab:** Hvordan vil vi hver især bidrage til at nå de fælles succeskriterier? Hvad er vi hver især gode til?\n"
   ]
  },
  {
   "cell_type": "markdown",
   "metadata": {},
   "source": [
    "### Eksempler"
   ]
  },
  {
   "cell_type": "markdown",
   "metadata": {},
   "source": [
    "- Vi går efter at alle i gruppen får min. ___ i karakter for rapporten!\n",
    "- Vi synes, det er OK, at vi bidrager forskelligt til projektarbejdet.\n",
    "- Alle i gruppen skal kunne forstå og forklare alle afsnit i rapporten. Ja, for dette kræves til den mundtlige eksamen.\n",
    "- Vi udskyder ikke rapportskrivningen men skriver løbende afsnit til den.\n",
    "- Vi reserverer hele onsdag til gruppearbejde i forbindelse med rapportskrivning i de sidste 2 uger inden aflevering.\n",
    "- Hvis vi har aftalt at forberede noget til et gruppemøde, er kun sygdom en undskyldning for ikke at have gjort det!"
   ]
  },
  {
   "cell_type": "markdown",
   "metadata": {},
   "source": [
    "## 4 - Problemer"
   ]
  },
  {
   "cell_type": "markdown",
   "metadata": {},
   "source": [
    "Hvad vil vi som gruppe gøre, hvis et gruppemedlem altid kommer for sent til møderne?\n"
   ]
  },
  {
   "cell_type": "markdown",
   "metadata": {},
   "source": [
    "Hvad vil vi som gruppe gøre, hvis et gruppemedlem aldrig afleverer det aftalte til tiden?\n"
   ]
  },
  {
   "cell_type": "markdown",
   "metadata": {},
   "source": [
    "Hvad vil vi som gruppe gøre, hvis 2 eller flere gruppemedlemmer har dårlig kemi sammen - og det indvirker på gruppens arbejde?\n"
   ]
  },
  {
   "cell_type": "markdown",
   "metadata": {},
   "source": [
    "### Eksempler"
   ]
  },
  {
   "cell_type": "markdown",
   "metadata": {},
   "source": [
    "- Vi afsætter tid på hvert gruppemøde til at diskutere evt. problemer i gruppen Alle kan tage problemer op, der vedrører ethvert gruppemedlem (inkl. en selv).\n",
    "- Hvis der er problemer, som ikke løses efter at det har været diskuteret to gange, går vi til underviseren.\n"
   ]
  },
  {
   "cell_type": "markdown",
   "metadata": {},
   "source": [
    "# Underskrift"
   ]
  },
  {
   "cell_type": "markdown",
   "metadata": {},
   "source": [
    "Samarbejdskontrakten skal underskrives af alle gruppemedlemmer og vedlægges som en del af jeres projektplan der afleveres uge 4 på Inside. \n",
    "\n",
    "Dette oplæg stammer fra kursusmaterialet i DTU’s pædagogiske kursus. Dog har jeg lavet enkle ændringer for at få det til at passe til Matematik og teknologis fælles ramme for fagprojekter.\n",
    "\n",
    "Peter Røgen.\n",
    "\n",
    "Disse rammer passer også til Kunstig Intelligens og Data fagprojekter. Morten Mørup"
   ]
  },
  {
   "cell_type": "markdown",
   "metadata": {},
   "source": []
  }
 ],
 "metadata": {
  "language_info": {
   "name": "python"
  }
 },
 "nbformat": 4,
 "nbformat_minor": 2
}
