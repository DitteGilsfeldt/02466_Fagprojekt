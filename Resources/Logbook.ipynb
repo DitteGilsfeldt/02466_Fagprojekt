{
 "cells": [
  {
   "cell_type": "markdown",
   "metadata": {},
   "source": [
    "# Logbook"
   ]
  },
  {
   "cell_type": "markdown",
   "metadata": {},
   "source": [
    "## Learning goals"
   ]
  },
  {
   "cell_type": "markdown",
   "metadata": {},
   "source": [
    "At kunne træne AI modeller på data\n",
    "\n",
    "At kunne forstå datasæt\n",
    "\n",
    "Være bekendt med at kode machine learning modeller\n",
    "\n",
    "At kunne bruge forskellige machine learning modeller\n",
    "\n",
    "At kunne evaluere modellernes performance\n",
    "\n",
    "At bruge statistiske tests til evaluering\n",
    "\n",
    "At kunne bruge modellerne til at bestemme hvilke patienter, der er i høj eller lav risiko\n",
    "\n",
    "At kunne bruge f.eks. gaussian modeller til at forudsige manglende punkter (manglende huller i modellen)"
   ]
  },
  {
   "cell_type": "markdown",
   "metadata": {},
   "source": [
    "## Template"
   ]
  },
  {
   "cell_type": "markdown",
   "metadata": {},
   "source": [
    "* Questions\n",
    "    * Questions here, and who to ask\n",
    "* Reading, who and what\n",
    "    * What was read?\n",
    "* Implementation, who and what\n",
    "    * What was implemented and worked on\n",
    "* Results, who and what\n",
    "    * Results of these implementations.\n",
    "    * Do we need to reevaluate the results next time\n",
    "* Decisions, who and what, what do you do alone, what do you do together\n",
    "    * What decisions were made?"
   ]
  },
  {
   "cell_type": "markdown",
   "metadata": {},
   "source": [
    "## Project meetings"
   ]
  },
  {
   "cell_type": "markdown",
   "metadata": {},
   "source": [
    "### 07-02-2024"
   ]
  },
  {
   "cell_type": "markdown",
   "metadata": {},
   "source": [
    "* Questions\n",
    "    * When do we get access to the project dataset? Ask supervisor\n",
    "* Reading, who and what\n",
    "    * No material was read today.\n",
    "* Implementation, who and what\n",
    "    * A colaboration-contract has been made containing the aproach and what is expected of eachother.\n",
    "    * We have formulated some questions we want to ask the supervisor for the next meeting.\n",
    "* Results, who and what\n",
    "    * We have finished the colaboration - contract which is a part of the assignment the 28/2.\n",
    "* Decisions, who and what, what do you do alone, what do you do together\n",
    "    * A meeting has been set up with the supervisors next Tuesday 13/2 16:00. This will be a virtual meeting."
   ]
  },
  {
   "cell_type": "markdown",
   "metadata": {},
   "source": [
    "## Supervisor meeting"
   ]
  },
  {
   "cell_type": "markdown",
   "metadata": {},
   "source": [
    "### 13-02-2024 - Virtual"
   ]
  },
  {
   "cell_type": "markdown",
   "metadata": {},
   "source": [
    "#### Questions:\n",
    "- Da vi ikke er medicin studerende, hvordan ved vi hvad der er vigtigt?\n",
    "  - Hvilke metrics kan vi evaluere? \n",
    "\n",
    "- Hvordan finder vi balancen mellem hvor meget medicin' teori vi skal have med? - Hvornår får vi adgang til dataen\n",
    "\n",
    "- Vi husker at du nævnte, at datasættet er meget stort. Uden medicinsk baggrund, hvordan skal vi evaluerer hvilke features der er \"værd\" eller relevante at tage med for træning af modeller (hvis vi ikke kan træne på alle features)?\n",
    "\n",
    "  - Eller er det anbefalet at lave en form for feature selection eller statistiske analyse for at finde relevante features (analyse af correlation of påvirkninger)?\n"
   ]
  },
  {
   "cell_type": "markdown",
   "metadata": {},
   "source": [
    "Notes from the meeting:"
   ]
  },
  {
   "cell_type": "markdown",
   "metadata": {},
   "source": [
    "- Morten Mørup står for al ML delen og Lars står for Data\n",
    "- Lars = Anastasi læge (Hjerte afdeling)\n",
    "- Samlet data over 5 årigeperiode\n",
    "  \n",
    "- Data:\n",
    "  - 8000 patient forløb\n",
    "  - Alder, køn, fejl inden hjerte opretation, data under operation\n",
    "    - data under operation er bla det de har samlte ind\n",
    "    - Hvad data ser vi kun på en gang i mellem\n",
    "    - Hvad data kigger vi mest på\n",
    "  - Hvordan går det for patienter\n",
    "    - er det her en risiko patient\n",
    "      - er det end er kan risikere at dø, eller at det går dårligt\n",
    "      - evt skal de ikke operaes, hvis de har risiko for at dø \n",
    "        - Det her kan vi da lave noget ML til. \n",
    "    - eller er det en lav risiko patient \n",
    "  - Gemmer hvert minut dataen\n",
    "  - Størrelse af datasættet\n",
    "    - representativ\n",
    "    - Nemt at håndtere\n",
    "  - Overskueligt data\n",
    "  - Tænk over anomyseringen\n",
    "    - Jurisk er anomyseringen ikke godt nok\n",
    "\n",
    "- Outcome:\n",
    "  - Hvor længe overlever de\n",
    "  - hvor meget medicin skal de have\n",
    "  - Hvor meget support har de brug for\n",
    "\n",
    "- Sampler sjældent\n",
    "  - medicin \n",
    "  - krugien \n",
    "\n",
    "- Sample hyppigt\n",
    "  - Fx EKG\n",
    "\n",
    "- Der er allerede lavet ML på dataen\n",
    "  \n",
    "- Ny og spændende og værdifuldt for dem\n",
    "  - Kan vi undervej lavet en eller anden modellering undervejs af data der akn fortælle os nogen om tidligt i opreationen om det kommer til at gå dårligt\n",
    "  - Data pejer på at patienten ender i dialyse\n",
    "  - Euroscore siger noget om overlevelse men ikke om hvor lang tid forløbet tager\n",
    "\n",
    "- Der laves en kontrak til \"ansættes\" på rigshospialet\n",
    "- Få en laptop, der kan tilgå dataen.\n",
    "  - Laptoppen har ingen GPU og kan kun kører det den kan\n",
    "  - Kan godt tage laptoppen med sig\n",
    "  - 1 laptop til hver gruppe\n",
    "\n",
    "- Det er brgrænset hvilke informations kilder der hentes. \n",
    "\n",
    "- Taler overlevelse\n",
    "  - fx 90 dage\n",
    "  - På et år er det deres samlde \n",
    "\n",
    "- Tid på intensiv og tid på hospitalet ikke på operations bordet\n",
    "  \n",
    "- Hvis ikke man tager død så\n",
    "  \n",
    "- Forskningsspørgsmål:\n",
    "  - i hvilken grad kan man få explatertbart, men samtidig forstå ... \n",
    "\n",
    "- Teams gruppe\n",
    "  - invitere vejleder med\n",
    "\n",
    "- Mail til Lars\n",
    "  - chaoqun.zheng@regionh.dk\n",
    "\n",
    "- Mail til Chao\n",
    "  - lars.groenlykke@regionh.dk\n",
    "\n",
    "- baseline model (euro score)\n",
    "  - samlede .. overlevede\n",
    "  - logistisk regression\n",
    "  - lave Euro score selv på data\n",
    "    - se hvordan den beregner\n",
    "    - se hvordan den laver logistisk regression\n",
    "\n",
    "- Forstå modellen, eller om det bare at preditere godt?\n",
    "  - Klinisk relevant del\n",
    "    - State på behandling eller gøre om, så \n",
    "      - kendes betydningen af enkelte kombonenter\n",
    "      - vil gerne kunne handle\n",
    "    - **Explanibilliy er vigtig**\n",
    "      - Højt sat,\n",
    "        - er der en biologisk plausibilitet\n",
    "        - hvad kan være problamatisk\n",
    "          - kan forbygge\n",
    "        - modeller hvor det er nemmere at forklare\n",
    "\n",
    "- Skal kende de enkelte datakilder og redegøre og hvor de kommer fra\n",
    "  - Vigtigt for at kunne lave modellerne korrekt\n",
    "  - Standard mål, der er velbeskrevet\n",
    "  - Det medicin vi sksl kunne vil fx være, blodtryksmedicin til at sænke blodtrykket\n",
    "\n",
    "- Lars og Chao kan hjælpe med:\n",
    "  - Hvornår er blodtrykket ligesom nonsens\n",
    "  - Er det her overhoved biologisk muligt\n",
    "  - Data afgrænsning (god kvalitet af dataen)\n"
   ]
  },
  {
   "cell_type": "markdown",
   "metadata": {},
   "source": [
    "### 21/02/2024"
   ]
  },
  {
   "cell_type": "markdown",
   "metadata": {},
   "source": [
    "* data.cog\n",
    "* GMM af dataset for brug på vores egen computer\n",
    "* aflevering i denne uge/næste uge\n",
    "* align spørgsmål med hospitalet\n",
    "\n",
    "* Arbejdsspørgsmål\n",
    "    * 30/90 dages overlevelsesrate(vigtig)\n",
    "    * Bedre perfomance end tidligere model\n",
    "    * Hvor meget mere giver data under operationen?\n",
    "    * indlæggelsestid\n",
    "    * længde på operation\n",
    "    * cor mellem de forskellige target variables\n",
    "    * Hvad betyder det hvis patienter dør udner operationen\n",
    "    * Bliver de bedre til operationen over tid?\n",
    "    * 3 forskningsspørgsmål\n",
    "\n",
    "* Forskningsspørgsmål ka godt ændres hvis det er nødvendigt\n",
    "* Hvis vi ikke får bedre resultater end logistic regression er det ok, bare det er gjort rigtigt\n",
    "* Transformer Deep Learning\n",
    "* Opdeling i grupper af dataset\n",
    "* Samme perfomance metrics for alle models \n",
    "\n"
   ]
  }
 ],
 "metadata": {
  "language_info": {
   "name": "python"
  }
 },
 "nbformat": 4,
 "nbformat_minor": 2
}
