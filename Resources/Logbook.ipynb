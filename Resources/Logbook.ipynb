{
 "cells": [
  {
   "cell_type": "markdown",
   "metadata": {},
   "source": [
    "# Logbook"
   ]
  },
  {
   "cell_type": "markdown",
   "metadata": {},
   "source": [
    "## Template"
   ]
  },
  {
   "cell_type": "markdown",
   "metadata": {},
   "source": [
    "* Questions\n",
    "    * Questions here, and who to ask\n",
    "* Reading, who and what\n",
    "    * What was read?\n",
    "* Implementation, who and what\n",
    "    * What was implemented and worked on\n",
    "* Results, who and what\n",
    "    * Results of these implementations.\n",
    "    * Do we need to reevaluate the results next time\n",
    "* Decisions, who and what, what do you do alone, what do you do together\n",
    "    * What decisions were made?"
   ]
  },
  {
   "cell_type": "markdown",
   "metadata": {},
   "source": [
    "## Project meetings"
   ]
  },
  {
   "cell_type": "markdown",
   "metadata": {},
   "source": [
    "### 07-02-2024"
   ]
  },
  {
   "cell_type": "markdown",
   "metadata": {},
   "source": [
    "* Questions\n",
    "    * When do we get access to the project dataset? Ask supervisor\n",
    "* Reading, who and what\n",
    "    * No material was read today.\n",
    "* Implementation, who and what\n",
    "    * A colaboration-contract has been made containing the aproach and what is expected of eachother.\n",
    "    * We have formulated some questions we want to ask the supervisor for the next meeting.\n",
    "* Results, who and what\n",
    "    * We have finished the colaboration - contract which is a part of the assignment the 28/2.\n",
    "* Decisions, who and what, what do you do alone, what do you do together\n",
    "    * A meeting has been set up with the supervisors next Tuesday 13/2 16:00. This will be a virtual meeting."
   ]
  },
  {
   "cell_type": "markdown",
   "metadata": {},
   "source": [
    "## Supervisor meeting"
   ]
  },
  {
   "cell_type": "markdown",
   "metadata": {},
   "source": [
    "### 13-02-2024 - Virtual"
   ]
  },
  {
   "cell_type": "markdown",
   "metadata": {},
   "source": [
    "#### Questions:\n",
    "- Da vi ikke er medicin studerende, hvordan ved vi hvad der er vigtigt?\n",
    "  - Hvilke metrics kan vi evaluere? \n",
    "\n",
    "- Hvordan finder vi balancen mellem hvor meget medicin' teori vi skal have med? - Hvornår får vi adgang til dataen\n",
    "\n",
    "- Vi husker at du nævnte, at datasættet er meget stort. Uden medicinsk baggrund, hvordan skal vi evaluerer hvilke features der er \"værd\" eller relevante at tage med for træning af modeller (hvis vi ikke kan træne på alle features)?\n",
    "\n",
    "  - Eller er det anbefalet at lave en form for feature selection eller statistiske analyse for at finde relevante features (analyse af correlation of påvirkninger)?\n"
   ]
  }
 ],
 "metadata": {
  "language_info": {
   "name": "python"
  }
 },
 "nbformat": 4,
 "nbformat_minor": 2
}
