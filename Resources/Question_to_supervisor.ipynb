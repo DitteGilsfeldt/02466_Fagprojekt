{
 "cells": [
  {
   "cell_type": "markdown",
   "metadata": {},
   "source": [
    "# Question to the supervisor"
   ]
  },
  {
   "cell_type": "markdown",
   "metadata": {},
   "source": [
    "## First meeting\n",
    "\n",
    "**Date:** 13.02.24"
   ]
  },
  {
   "cell_type": "markdown",
   "metadata": {},
   "source": [
    "- Da vi ikke er medicin studerende, hvordan ved vi hvad der er vigtigt?\n",
    "  - Hvilke matrix kan vi evaluere? \n",
    "- Hvordan finder vi balancen mellem hvor meget medicin' teori vi skal have med? "
   ]
  }
 ],
 "metadata": {
  "language_info": {
   "name": "python"
  }
 },
 "nbformat": 4,
 "nbformat_minor": 2
}
