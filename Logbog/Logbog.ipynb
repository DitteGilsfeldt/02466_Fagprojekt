{
 "cells": [
  {
   "cell_type": "markdown",
   "metadata": {},
   "source": [
    "# Logbook"
   ]
  },
  {
   "cell_type": "markdown",
   "metadata": {},
   "source": [
    "## **Learning goals**"
   ]
  },
  {
   "cell_type": "markdown",
   "metadata": {},
   "source": [
    "At kunne træne AI modeller på data\n",
    "\n",
    "At kunne forstå datasæt\n",
    "\n",
    "Være bekendt med at kode machine learning modeller\n",
    "\n",
    "At kunne bruge forskellige machine learning modeller\n",
    "\n",
    "At kunne evaluere modellernes performance\n",
    "\n",
    "At bruge statistiske tests til evaluering\n",
    "\n",
    "At kunne bruge modellerne til at bestemme hvilke patienter, der er i høj eller lav risiko\n",
    "\n",
    "At kunne bruge f.eks. gaussian modeller til at forudsige manglende punkter (manglende huller i modellen)"
   ]
  },
  {
   "cell_type": "markdown",
   "metadata": {},
   "source": [
    "## **Template**"
   ]
  },
  {
   "cell_type": "markdown",
   "metadata": {},
   "source": [
    "* Questions\n",
    "    * Questions here, and who to ask\n",
    "* Reading, who and what\n",
    "    * What was read?\n",
    "* Implementation, who and what\n",
    "    * What was implemented and worked on\n",
    "* Results, who and what\n",
    "    * Results of these implementations.\n",
    "    * Do we need to reevaluate the results next time\n",
    "* Decisions, who and what, what do you do alone, what do you do together\n",
    "    * What decisions were made?"
   ]
  },
  {
   "cell_type": "markdown",
   "metadata": {},
   "source": [
    "## **Project meetings**"
   ]
  },
  {
   "cell_type": "markdown",
   "metadata": {},
   "source": [
    "### 07/02/2024"
   ]
  },
  {
   "cell_type": "markdown",
   "metadata": {},
   "source": [
    "* Questions\n",
    "    * When do we get access to the project dataset? Ask supervisor\n",
    "* Reading, who and what\n",
    "    * No material was read today.\n",
    "* Implementation, who and what\n",
    "    * A colaboration-contract has been made containing the aproach and what is expected of eachother.\n",
    "    * We have formulated some questions we want to ask the supervisor for the next meeting.\n",
    "* Results, who and what\n",
    "    * We have finished the colaboration - contract which is a part of the assignment the 28/2.\n",
    "* Decisions, who and what, what do you do alone, what do you do together\n",
    "    * A meeting has been set up with the supervisors next Tuesday 13/2 16:00. This will be a virtual meeting."
   ]
  },
  {
   "cell_type": "markdown",
   "metadata": {},
   "source": [
    "### 21/02/24"
   ]
  },
  {
   "cell_type": "markdown",
   "metadata": {},
   "source": [
    "Vi (Ditte, Lucia, Viktor) mødtes til vejleder mødet, hvor vi efterfølgende, opdaterede vores gruppemedlem der ikke hørte starten af vejledermødet grundet forsinkelse på en halv time (Muneer). \n",
    "Dertil arbejde vi på at få udarbejdet en projekt beskrivelse, samt læse de links vi har fået givet omkring EuroSCORE. \n",
    "\n",
    "Vi havde en 5-6 forskingsspørgsmål, vi lige ville lade ligge til efter forelsæningen, og lige få klart syn på hvad vi ville i fagprojektet. \n",
    "Efter forelæsnignen havde vi møde med vores \"søster-gruppe\" hvor vi brainstromede på forskingsspørgsmål, dette møde deltager Ditte, Lucia og Viktor.\n",
    "\n",
    "**Brainstorm forskningsspørgsmål** \\\n",
    "<img src= \"img/2024-02-28-14-13-25.png\" style=\"width:30rem;\">\n",
    "\n",
    "Efter vi havde brainstormet, kiggede vi på vores forskingsspørgsmål og næsten færdig gjort vores udkast til projekt beskrivelsen. \n",
    "Projektbeskrivelsen, skrives primært at Ditte, Lucia og Viktor, da Muneer ikke havde sin computer med, og ikke har responderet på meddelser på Discord ang. ændringer i projekt beskrivelsen"
   ]
  },
  {
   "cell_type": "markdown",
   "metadata": {},
   "source": [
    "### 27/02/24"
   ]
  },
  {
   "cell_type": "markdown",
   "metadata": {},
   "source": [
    "kl 10.54 har Ditte Lucia og Viktor godkendt nyt vejleder møde, efter samtale på discord, hvor Muneer ikke har deltaget i samtale"
   ]
  },
  {
   "cell_type": "markdown",
   "metadata": {},
   "source": [
    "### 28/02/24"
   ]
  },
  {
   "cell_type": "markdown",
   "metadata": {},
   "source": [
    "Ditte, Lucia og Viktor mødes efter forelæsningen og skriver projekt beskrivelsen færdig, med de rettelser der er kommet fra vejleder. \n",
    "\n",
    "Dertil udarbejdes der en mail til Muneer, ang. gruppe samarbejdet. \n",
    "\n",
    "Der undersøges litteratur til vores projekt. \n",
    "\n",
    "Ingen besked fra Muneer om fraværelse.\n",
    "\n",
    "Projektbeskrivelse, Gantt Chart, Samarbejdsaftale, Project Canvas og Læringsmål afleveret."
   ]
  },
  {
   "cell_type": "markdown",
   "metadata": {},
   "source": [
    "### **Forløbige artikler**"
   ]
  },
  {
   "cell_type": "markdown",
   "metadata": {},
   "source": [
    "- https://findit.dtu.dk/en/catalog/652c8a0f2fa76a1b70c0f344\n",
    "- https://findit.dtu.dk/en/catalog/64bf66db76bd98312b7d8cd7\n",
    "- https://findit.dtu.dk/en/catalog/6420dfb03a65a13c29450683\n",
    "- https://findit.dtu.dk/en/catalog/5c47be8bd9001d019d32f1db"
   ]
  },
  {
   "cell_type": "markdown",
   "metadata": {},
   "source": [
    "### **Mail sendt til Muneer:**\n",
    "Hej.\n",
    "Vi oplever at der er nogle problemer og mangler i forhold til vores samarbejde. \n",
    "\n",
    "Vi synes, at det er svært at have et samarbejde om projektet, når du kommer for sent til møderne, ikke dukker op til det aftalte, og ydermere ikke kommer og har en computer med til at kunne bidrage med at skrive på projekt beskrivelsen. \n",
    "\n",
    "Dertil ønsker vi at der kommer kommunikation, som også har været manglende på det seneste. Jeg referer til vores sammenarbejdskontrakt, hvor vi har skrevet under på at man giver besked, når man ikke kommer. Dette hører vi intet om, idet svar og reaktioner på vores discord server er manglende.\n",
    "\n",
    "I flere tilfælde har vi meddelt opdateringer i forhold til, hvor langt vi er med det nuværende arbejde, hvilke tanker vi har gjort os for fremtidige opgaver samt, hvad lægerne har meddelt over teams. Siden vi ikke hører noget fra din side, er vi usikre på, i hvor stor grad du er up-to-date med vores nuværende projekt status. Yderligere, ved vi heller ikke om du har sent en underskrevet kontrakt til lægerne, hvilket et krævet for at kunne bruge computeren, og om du er klar over, at en nyt møde finder sted fredag med en hovedansvarlig fra hospitalets IT-afdeling.\n",
    "\n",
    "Dette gør, at vi har nogle krav til dig, som du skal have bevist inden vores \"midsvejsaflevering\" om 3 uger. Er disse ting ikke blevet bedre, må vi desværre meddele at du ikke kan være en del af vores gruppe derefter. \n",
    "\n",
    "Hold øje med Discord og svar.\n",
    "Være der til, det vi aftaler (også selvom man har travlt, for det har vi alle) .\n",
    "Det forventes 9 timer om ugen og dette har vi ikke krævet over.\n",
    "Hold øje med teams og discord og svar på tingene (så det er tydeligt for os, at du har set beskederne og er opdateret).\n",
    "Medbringe computer hver gang.\n",
    "\n",
    "Mvh \n",
    "Ditte, Lucia og Viktor\n",
    "\n",
    "28/02/24 kl 15:40"
   ]
  },
  {
   "cell_type": "markdown",
   "metadata": {},
   "source": [
    "Muneer bliver smidt ud af gruppe ved samtale med Morten Mørup, da han ikke har svaret i 2,5 uge. Hverken på Discord eller mail. \\\n",
    "Muneer bliver fjernet fra Discord og git. Samme aften kontakter Muneer grupper, med besked hvad er der sket med vores discord gruppe. \\\n",
    "Vi (Ditte, Lucia og Viktor) får at vide af Morten Mørup, at da han nu har svare skal vi stadig give ham en chance og derved skrive til ham. \\\n",
    "\n",
    "**Mail koorspondance med Muneer:**\\\n",
    "**06/03/24**\n",
    "kl. 19:50\\\n",
    "\n",
    "Hej,\\\n",
    "Jeg bliver nødt til at indrømme at jeg først ser denne mail nu. Jeg har simpelthen haft en dårlig periode i den sidste måned grundet personlige årsager, der har forårsaget massere af fravær fysisk og skriftligt på DTU, og jeg er ikke selv tilfreds med mit bidrag og ustabilitet.  Jeg er virkelig ked af jeg hvis jeg ikke kan være med fremover for jeg har mange gode ideer og tænker tit på projektet (har bare ikke haft mulighed på at arbejde på det tekniske grundet vi manglede data.)  Jeg er tilbage på fødderne nu, og jeg håber i kan give mig en chance til, hvor jeg så lover jeg overholder vores aftaler mht. samarbejdskontrakten, for det er virkelig et projekt jeg vil arbejde på og have det bedste ud af.\n",
    "\n",
    "Venlig hilsen,\\\n",
    "Muneer\\\n",
    "\n",
    "\n",
    "**07/03/24** \\\n",
    "kl 08:36\\\n",
    "Kære Ditte, Lucia og Victor,\n",
    " \n",
    "Kan se Muneer igår har svaret på jeres besked, inden jeg i dag ville skrive ud til ham og jer om gruppesamarbejdet.\\\n",
    " \n",
    "Jeg synes vi skal holde fast i planen, vi aftalte oprindeligt. Dvs. give Muneer opgaver til midtvejsafleveringen, og hvis der ikke leveres på disse som aftalt og samarbejdet med hans indsats stadig ikke er tilfredsstillende, må skridtet tages videre til at han ikke kan være en del af jeres gruppe.\n",
    " \n",
    "Vil I skrive til Muneer og sikre han har klare opgaver at levere på til jeres samarbejde, som aftalt.\n",
    " \n",
    "Bedste hilsener\\\n",
    "Morten\n",
    "\n",
    "\n",
    "kl 08:40\\\n",
    "Hej Morten.\\\n",
    "Vi svarer Muneer på hans mail og holder fast i planen. \n",
    "\n",
    "Mvh\\\n",
    "Ditte Gilsfeldt \\\n",
    "Studie nr: s210666\n",
    "\n",
    "\n",
    "kl 08:52\\\n",
    "Hej Muneer. \\\n",
    "Vi giver dig en chance til i gruppen, men må indrømme at selvom man personlig har det svært, så er man også nødt til at være ansvarlig og få kommunikeret til sin gruppe. At der intet er hørt fra dig i 2 en halv uge, det er ikke okay. Vi kan jo lidt se du følger med på discord siden du samme dag opdager at du egentlig er ude af gruppen, samt flere gange er online, til at vi meget har undret os over den manglende kommunikation. \n",
    "\n",
    "Vi vælger dog stadig med vores ret, at hvis tingene ikke bliver bedre inden midtvejsevalueringen, så kan du ikke være en del af gruppen. \n",
    "\n",
    "Det gælder at du overholder følgende: \\\n",
    "Får underskrevet kontrakten med Rigshospitalet, før dette kan du ikke bruge computeren. \\\n",
    "Kommunikere til os og vejleder\\\n",
    "Kommer til det aftalte til tiden og også med computer. \n",
    "\n",
    "Dertil har vi andre heller ikke kunne arbejde på dataen da vi først får computeren i morgen, men det betyder ikke at der ikke har været ting der skulle laves. \n",
    "\n",
    "Mvh\\\n",
    "Ditte Gilsfeldt \\\n",
    "Studie nr: s210666\n",
    "\n",
    "\n",
    "kl 14:20\\\n",
    "Hej,\\\n",
    "Kan du hjælpe mig med den kontrakt der skal sendes til Rigshospitalet? Hvor er den og hvordan skal den sendes?  Tak på forhånd.\n",
    "\n",
    "Venlig hilsen,\\\n",
    "Muneer\n",
    "\n",
    "kl 17:11\\\n",
    "Send mig lige din oplysninger til git og discord. Så tilføjer jeg dig igen. Og så ligger den der inde.\n",
    "\n",
    "Mvh\\\n",
    "Ditte Gilsfeldt\\\n",
    "Studie nr: s210666\n",
    "\n",
    "\n",
    "kl 17:55\\\n",
    "Git: muneer-kayali\\\n",
    "Discord: muneerkayali\n",
    "\n",
    "Mvh,\\\n",
    "Muneer\n",
    "\n",
    "kl 20.07\\\n",
    "Prøv lige at tjek om du har adgang nu. Ellers gør jeg det lige i morgen på computeren\n",
    "\n",
    "Mvh\\\n",
    "Ditte Gilsfeldt\\\n",
    "Studie nr: s210666\n",
    "\n",
    "\n",
    "**08/03/24** \\\n",
    "kl 09.08\n",
    "\n",
    "Hej Muneer.\\\n",
    "Du burde have adgang når du godkender invitationerne.\n",
    "\n",
    "Mvh\\\n",
    "Ditte Gilsfeldt \\\n",
    "Studie nr: s210666\n",
    "\n",
    "kl 14.10\\\n",
    "Hej, har stadig ikke adgang.\n",
    "\n",
    "Mvh,\\\n",
    "Muneer Kayali\n",
    "\n",
    "kl 15:27\\\n",
    "Har du fået invitationen? \n",
    "\n",
    "Mvh\n",
    "Ditte Gilsfeldt \n",
    "Studie nr: s210666\n",
    "\n",
    "\n",
    "Dertil kommer der ikke flere mails, og Ditte har sendt utallige invitationer til Discord gruppen samt venne anmodning der ikke bliver svaret. \n",
    "Ditte kontakter Muneer på Messenger:\n",
    "\n",
    "\n",
    "**10/03/24**\\\n",
    "15:28\\\n",
    "Hej Muneer. Jeg har forsøgt i 2 dage at få dig ind i discord gruppen. Det er svært at få dig med i tingene når du kun svarer 1 gang på to timer. Forventer ikke du svarer hele tiden, men hvis du vil ind i discord gruppen, er du nødt til at kommunikere lidt mere med mig, så det kan lykkes. \\\n",
    "Hilsen Ditte\n",
    "\n",
    "Hvor Muneer svarer at han beklager men at han stadig ikke er med i gruppen på discord og at jeg kan sende ham en invitation, dertil svarer Ditte at der er sendt mange link, men at det ikke er muligt før han godkender venneanmodning og hertil kommer det op og kører. \n",
    "\n"
   ]
  },
  {
   "cell_type": "markdown",
   "metadata": {},
   "source": [
    "### 13/03/2024"
   ]
  },
  {
   "cell_type": "markdown",
   "metadata": {},
   "source": [
    "Ditte, Muneer og Viktor mødtes kl 10:00. Lucia er ikke til stede da hun er på ferie.\n",
    "\n",
    "Idag blev der skrevet på raporten,  da midtvejsafleveringen snart skal afleveres. Der blev kigget på flere artikler for at få en bedre forståelse af hvordan mortality kan forudsiges ved brug af AI. Der blev også undersøgt hvilke muligheder for syntetisk data, vi har til rådighed. \n",
    "\n",
    "potentielt library til syntetisk data: https://github.com/sdv-dev/SDV\n",
    "\n"
   ]
  },
  {
   "cell_type": "markdown",
   "metadata": {},
   "source": [
    "### 06/06/2024"
   ]
  },
  {
   "cell_type": "markdown",
   "metadata": {},
   "source": [
    "Lucia, Ditte og Viktor er tilstede for at starte med projektet. \n",
    "Intet hørt fra Muneer, og ingen resons på discord. \n",
    "\n",
    "I dag, har vi startede med at kigge videre med at sortere dataen, samt kigge på om vi kan få syntetisk data op og kører. \n",
    "\n",
    "Dertil har vi kun haft mulighed for at arbejde på en computer (rigshospitalets computer), da vi ikke kan flytte dateen fra computeren. \n",
    "Detter har gjort at vi sammen har kigget på det, men dertil er der også blevet kigget på det feedback der er blevet givet, som er ved at blive rettet til i vores rapport. \n",
    "\n",
    "Det er blevet aftalt at mødes med \"søster\" gruppen, for at spare med hianden, på mandag kl 12. "
   ]
  },
  {
   "cell_type": "markdown",
   "metadata": {},
   "source": [
    "### 10/06/24"
   ]
  },
  {
   "cell_type": "markdown",
   "metadata": {},
   "source": [
    "Alle i gruppen er mødtes.\n",
    "\n",
    "Vi har i dag haft møde med søstergruppen (se \"referat\" længere nede). \n",
    "Vi er gået i gang med at finde ud af hvad for dataen vi skal bruge og ikke bruge samt hvordan vi skal bruge det.\n",
    "Dertil har vi kigge lidt mere på rapport skrivningen, og fået rette vores state of the art, samt vores forskningsspørgsmål, da vi har fundet ud af at vi ikke kan sammenligne med EuroSCORE, som vi havde tænkt os. "
   ]
  },
  {
   "cell_type": "markdown",
   "metadata": {},
   "source": [
    "### 11/06/24"
   ]
  },
  {
   "cell_type": "markdown",
   "metadata": {},
   "source": [
    "Viktor, Lucia og Ditte er mødt op på biblioteket, men intet hørt fra Muneer.\n",
    "\n",
    "State of the art er blevet skrevet færdig, og der er blevet skrevet til med stikord/ en disposition til metode afsnittet, hvor vi har været mere sikre på, hvilke modeller og evalueringstest, der skal bruges (med inspiration fra artiklerne vi har læst i state of the art).\n",
    "\n",
    "Datasættet er blevet ryddet op yderligere, og det er næsten blevet delt op i forhold til, hvornår hvert person (ID nummer) har haft deres operationer.\n",
    "\n",
    "Der er også blevet lavet udkast til kode, som vi skal bruge til at evaluerer vores modeller (altså når vi får definieret \"prediction\" vektorer og har \"acutal values\" vektorerne)."
   ]
  },
  {
   "cell_type": "markdown",
   "metadata": {},
   "source": [
    "### 12/06/24"
   ]
  },
  {
   "cell_type": "markdown",
   "metadata": {},
   "source": [
    "Vi var alle tilstede for at arbejde videre på projeket. Noget af teorien blev færdig og vi kom langt med teori afsnittet. Vi fik kigget på nogle forskellige modellen, vi skal have ændret i og kørt på datasættet.\n",
    "\n",
    "Vi er stadig i gang med at få cleanet dataen, og vi fik klaret en del af det i dag. "
   ]
  },
  {
   "cell_type": "markdown",
   "metadata": {},
   "source": [
    "### 13/06/24"
   ]
  },
  {
   "cell_type": "markdown",
   "metadata": {},
   "source": [
    "Ditte, Lucia og Viktor er tilstede, ingen besked fra Muneer. \n",
    "Vi er fortsat på at få cleanet dataen, og dertil laver vi videre på teori afsnittet. Vi har forsøgt og med at starte på noget metode afsnit, men det vi nu kan skrive om indtil videre. \n",
    "\n",
    "Dertil er der sendt en mail afsted til Morten Mørup, ang vejleder møde på mandag. "
   ]
  },
  {
   "cell_type": "markdown",
   "metadata": {},
   "source": [
    "### 14/06/24"
   ]
  },
  {
   "cell_type": "markdown",
   "metadata": {},
   "source": [
    "Vi har alle siddet hjemmefra i dag, og arbejde videre på projektet, for at undersøge teori og metode. "
   ]
  },
  {
   "cell_type": "markdown",
   "metadata": {},
   "source": [
    "### 15/06/24"
   ]
  },
  {
   "cell_type": "markdown",
   "metadata": {},
   "source": [
    "Vi mødtes alle på DTU, og fik lavet mere kode hvor vi ryddede op i dataen. Dertil har vi kigget på FN's verdensmål som skal tages i betragting til diskutionen. \n"
   ]
  },
  {
   "cell_type": "markdown",
   "metadata": {},
   "source": [
    "### 16/06/24"
   ]
  },
  {
   "cell_type": "markdown",
   "metadata": {},
   "source": [
    "Lucia, Viktor og Ditte mødtes på DTU som aftalt kl 11, og arbejde videre med det vi lavede i går, samt forberedte til vejleder møde mandag og tirsdag med vejleder. \n",
    "\n",
    "Muneer sender besked til Viktor kl 13.50 om at der er EID så han tager til sin familie, men måske ville kigge på det senere. "
   ]
  },
  {
   "cell_type": "markdown",
   "metadata": {},
   "source": [
    "#### **Status**\n",
    "\n",
    "**CSV filer gennemgået:**\n",
    "\n",
    "- Alkohol og rygning\n",
    "- Anæstesihændelse\n",
    "- Population\n",
    "- Højde\n",
    "- Vægt\n",
    "- Probemliste\n",
    "- Spiromitri\n",
    "\n",
    "**Mangler**\n",
    "- KAG data\n",
    "- Lab svar\n",
    "- EKG \n",
    "- Medicin (meget er givet under og efter operationen)\n",
    "- Dialyse (pre-operativt (hvis de har nyresvigt inden operation ved lægerne, at det kommer til at gå virkelig skidt))\n",
    "\n",
    "**Forkastes:**\n",
    "\n",
    "- Anæstesidata (target variable)\n",
    "- Alle operation lavet en uge efter den første operation\n",
    "- ADT\n",
    "- Advancerede hæmodynamoske mål\n",
    "- Cirk\n",
    "- Respiratior data\n",
    "- ITA (target variable)\n",
    "- Blødning\n",
    "- Ekko\n",
    "- Viewpoint \n",
    "- Pleuraddren \n",
    "- Samlede udskillelse\n",
    "- Total indgift\n",
    "- Intellisapce\n",
    "\n",
    "**Ikke relevant for nu**\n",
    "\n",
    "- Dialyse (post-operativ)\n",
    "- Urin (ikke bruges for pre-operativ, urin viser tegn på hvordan deres nyre er)"
   ]
  },
  {
   "cell_type": "markdown",
   "metadata": {},
   "source": [
    "### 17/06/24"
   ]
  },
  {
   "cell_type": "markdown",
   "metadata": {},
   "source": [
    "Vi har i dag holdt vejleder møde (1 time) med Lars, for at se om vi var på rette spor ang. deres ønske, samt få styr på nogle data filer som vi manglede at have styr på.\n",
    "\n",
    "Dertil har vi arbejdet videre med at få inplimenteret dataen  og sorteret i de forskellige filer. \n",
    "\n",
    "Dertil er der blevet kigget mere på rapport skrivningen. \n",
    "\n",
    "Lavet en plan for resten af ugen:\n",
    "- Mandag:\n",
    "    - EKG og KAG bliver sorteret i dag og tilføjet til datasættet\n",
    "\n",
    "- Tirsdag: \n",
    "  - Medicin tilføjet til datasættet\n",
    "  - Træning / test af modeller for pre operativt\n",
    "\n",
    "- Onsdag:\n",
    "  - Oprydning i under og efter operationen data\n",
    "\n",
    "- Torsdag:\n",
    "  - evt fortsætte, ellers går vi i gang med DL med dialyse og lungesyg\n",
    "\n",
    "- Fredag:\n",
    "  - fortsætter med deep learning\n",
    "\n",
    "- Lørdag:\n",
    "\n",
    "- Søndag:\n",
    "  - Skrive på repporten\n",
    "\n",
    "- Mandag:\n",
    "  - Skrive repporten færdig"
   ]
  },
  {
   "cell_type": "markdown",
   "metadata": {},
   "source": [
    "### 18/06/24"
   ]
  },
  {
   "cell_type": "markdown",
   "metadata": {},
   "source": [
    "Vi havde i dag vejleder møde med Morten, der gave os nogle indput til hvordan vi skulle håndtere daten, samt fik justeret vores forskingsspørgsmål, samt modeller. \n",
    "Vi har derfor efter følgende arbejdet med den feedback vi fik af vejleder, samt arbejdet med rapportskrivning og inplementering af modeller. \n",
    "Dertil har vi arbejde med at håndterer post operativt data, da vi er færdig med pre operativ data. "
   ]
  },
  {
   "cell_type": "markdown",
   "metadata": {},
   "source": [
    "### 19/06/24"
   ]
  },
  {
   "cell_type": "markdown",
   "metadata": {},
   "source": [
    "Ditte var på arbejde hele dagen, hvor hun kiggede på GBM modellen. \n",
    "\n",
    "Muneer, Lucia og Viktor arbejede med datasættet og selecte de forskellige features. "
   ]
  },
  {
   "cell_type": "markdown",
   "metadata": {},
   "source": [
    "### 20/06/24"
   ]
  },
  {
   "cell_type": "markdown",
   "metadata": {},
   "source": [
    "Dagen er gået med at kigge på de forskellige krav til opgaven, samt at få skrevet det sidste metode i forhold til feature selecting, og data. Dertil er der fortsat blevet arbejdet med de forskellige modeller, for at få dem til at kører. "
   ]
  },
  {
   "cell_type": "markdown",
   "metadata": {},
   "source": [
    "### 21/06/24"
   ]
  },
  {
   "cell_type": "markdown",
   "metadata": {},
   "source": [
    "I dag har vi kigget på nogen af resultaterne vi har fået gennem natten for modellerne for pre operativ data. Dertil havde vi møde med Morten hvor vi fik gennemgået nogen af de ting vi var i tvivl om. \n",
    "\n",
    "Dertil har vi rettet til ud fra hvad vi skulle ændre fra vejleder mødet. "
   ]
  },
  {
   "cell_type": "markdown",
   "metadata": {},
   "source": [
    "### 22/06/24"
   ]
  },
  {
   "cell_type": "markdown",
   "metadata": {},
   "source": [
    "Dagen er gået med at skrive på rapporten, samt arbejde på modellerne, for at få resultater vi skal og kan bruge for alle modeller, og både pre, post og predi operativ data. "
   ]
  },
  {
   "cell_type": "markdown",
   "metadata": {},
   "source": [
    "### 23/06/24"
   ]
  },
  {
   "cell_type": "markdown",
   "metadata": {},
   "source": [
    "I dag er vi alle mødt for at skrive videre på reporten og kører det sidste på modellerne. \n",
    "\n",
    "Vi har fået skrevet vores resultater ind, og mangler ikke meget på resusltager, så har vi aftale at vi hver i sær laver videre til i morgen, så vi kun har det sidste at skrive i morgen. \n",
    "\n",
    "Muneer: Starter på diskussion i forhold til diskussion \n",
    "Lucia: Kigger resultater, og starter på model compareson, læse preface\n",
    "Viktor: kigger på model compareson og retter metode\n",
    "Ditte: kigger på AI værktøjer, læser igennem og se om vi opfylder krav, kigger på diskussion om etik og lægemiddelstyrrelsen\n",
    "\n",
    "Alle skrive hvordan de har brugt AI værktøjer\n",
    "\n",
    "\n",
    "\n",
    "Konklussion: \n",
    "- Svar på research question\n"
   ]
  },
  {
   "cell_type": "markdown",
   "metadata": {},
   "source": [
    "## **Supervisor meeting**"
   ]
  },
  {
   "cell_type": "markdown",
   "metadata": {},
   "source": [
    "### 13/02/2024 (virtual)"
   ]
  },
  {
   "cell_type": "markdown",
   "metadata": {},
   "source": [
    "#### Questions:\n",
    "- Da vi ikke er medicin studerende, hvordan ved vi hvad der er vigtigt?\n",
    "  - Hvilke metrics kan vi evaluere? \n",
    "\n",
    "- Hvordan finder vi balancen mellem hvor meget medicin' teori vi skal have med? - Hvornår får vi adgang til dataen\n",
    "\n",
    "- Vi husker at du nævnte, at datasættet er meget stort. Uden medicinsk baggrund, hvordan skal vi evaluerer hvilke features der er \"værd\" eller relevante at tage med for træning af modeller (hvis vi ikke kan træne på alle features)?\n",
    "\n",
    "  - Eller er det anbefalet at lave en form for feature selection eller statistiske analyse for at finde relevante features (analyse af correlation of påvirkninger)?\n"
   ]
  },
  {
   "cell_type": "markdown",
   "metadata": {},
   "source": [
    "#### Notes from the meeting:"
   ]
  },
  {
   "cell_type": "markdown",
   "metadata": {},
   "source": [
    "- Morten Mørup står for al ML delen og Lars står for Data\n",
    "- Lars = Anastasi læge (Hjerte afdeling)\n",
    "- Samlet data over 5 årigeperiode\n",
    "  \n",
    "- Data:\n",
    "  - 8000 patient forløb\n",
    "  - Alder, køn, fejl inden hjerte opretation, data under operation\n",
    "    - data under operation er bla det de har samlte ind\n",
    "    - Hvad data ser vi kun på en gang i mellem\n",
    "    - Hvad data kigger vi mest på\n",
    "  - Hvordan går det for patienter\n",
    "    - er det her en risiko patient\n",
    "      - er det end er kan risikere at dø, eller at det går dårligt\n",
    "      - evt skal de ikke operaes, hvis de har risiko for at dø \n",
    "        - Det her kan vi da lave noget ML til. \n",
    "    - eller er det en lav risiko patient \n",
    "  - Gemmer hvert minut dataen\n",
    "  - Størrelse af datasættet\n",
    "    - representativ\n",
    "    - Nemt at håndtere\n",
    "  - Overskueligt data\n",
    "  - Tænk over anomyseringen\n",
    "    - Jurisk er anomyseringen ikke godt nok\n",
    "\n",
    "- Outcome:\n",
    "  - Hvor længe overlever de\n",
    "  - hvor meget medicin skal de have\n",
    "  - Hvor meget support har de brug for\n",
    "\n",
    "- Sampler sjældent\n",
    "  - medicin \n",
    "  - krugien \n",
    "\n",
    "- Sample hyppigt\n",
    "  - Fx EKG\n",
    "\n",
    "- Der er allerede lavet ML på dataen\n",
    "  \n",
    "- Ny og spændende og værdifuldt for dem\n",
    "  - Kan vi undervej lavet en eller anden modellering undervejs af data der akn fortælle os nogen om tidligt i opreationen om det kommer til at gå dårligt\n",
    "  - Data pejer på at patienten ender i dialyse\n",
    "  - Euroscore siger noget om overlevelse men ikke om hvor lang tid forløbet tager\n",
    "\n",
    "- Der laves en kontrak til \"ansættes\" på rigshospialet\n",
    "- Få en laptop, der kan tilgå dataen.\n",
    "  - Laptoppen har ingen GPU og kan kun kører det den kan\n",
    "  - Kan godt tage laptoppen med sig\n",
    "  - 1 laptop til hver gruppe\n",
    "\n",
    "- Det er brgrænset hvilke informations kilder der hentes. \n",
    "\n",
    "- Taler overlevelse\n",
    "  - fx 90 dage\n",
    "  - På et år er det deres samlde \n",
    "\n",
    "- Tid på intensiv og tid på hospitalet ikke på operations bordet\n",
    "  \n",
    "- Hvis ikke man tager død så\n",
    "  \n",
    "- Forskningsspørgsmål:\n",
    "  - i hvilken grad kan man få explatertbart, men samtidig forstå ... \n",
    "\n",
    "- Teams gruppe\n",
    "  - invitere vejleder med\n",
    "\n",
    "- Mail til Lars\n",
    "  - chaoqun.zheng@regionh.dk\n",
    "\n",
    "- Mail til Chao\n",
    "  - lars.groenlykke@regionh.dk\n",
    "\n",
    "- baseline model (euro score)\n",
    "  - samlede .. overlevede\n",
    "  - logistisk regression\n",
    "  - lave Euro score selv på data\n",
    "    - se hvordan den beregner\n",
    "    - se hvordan den laver logistisk regression\n",
    "\n",
    "- Forstå modellen, eller om det bare at preditere godt?\n",
    "  - Klinisk relevant del\n",
    "    - State på behandling eller gøre om, så \n",
    "      - kendes betydningen af enkelte kombonenter\n",
    "      - vil gerne kunne handle\n",
    "    - **Explanibilliy er vigtig**\n",
    "      - Højt sat,\n",
    "        - er der en biologisk plausibilitet\n",
    "        - hvad kan være problamatisk\n",
    "          - kan forbygge\n",
    "        - modeller hvor det er nemmere at forklare\n",
    "\n",
    "- Skal kende de enkelte datakilder og redegøre og hvor de kommer fra\n",
    "  - Vigtigt for at kunne lave modellerne korrekt\n",
    "  - Standard mål, der er velbeskrevet\n",
    "  - Det medicin vi sksl kunne vil fx være, blodtryksmedicin til at sænke blodtrykket\n",
    "\n",
    "- Lars og Chao kan hjælpe med:\n",
    "  - Hvornår er blodtrykket ligesom nonsens\n",
    "  - Er det her overhoved biologisk muligt\n",
    "  - Data afgrænsning (god kvalitet af dataen)\n"
   ]
  },
  {
   "cell_type": "markdown",
   "metadata": {},
   "source": [
    "### 21/02/2024"
   ]
  },
  {
   "cell_type": "markdown",
   "metadata": {},
   "source": [
    "* data.gov\n",
    "* GMM af dataset for brug på vores egen computer\n",
    "* aflevering i denne uge/næste uge\n",
    "* align spørgsmål med hospitalet\n",
    "\n",
    "* Arbejdsspørgsmål\n",
    "    * 30/90 dages overlevelsesrate(vigtig)\n",
    "    * Bedre perfomance end tidligere model\n",
    "    * Hvor meget mere giver data under operationen?\n",
    "    * indlæggelsestid\n",
    "    * længde på operation\n",
    "    * cor mellem de forskellige target variables\n",
    "    * Hvad betyder det hvis patienter dør udner operationen\n",
    "    * Bliver de bedre til operationen over tid?\n",
    "    * 3 forskningsspørgsmål\n",
    "\n",
    "* Forskningsspørgsmål ka godt ændres hvis det er nødvendigt\n",
    "* Hvis vi ikke får bedre resultater end logistic regression er det ok, bare det er gjort rigtigt\n",
    "* Transformer Deep Learning\n",
    "* Opdeling i grupper af dataset\n",
    "* Samme perfomance metrics for alle models \n",
    "\n"
   ]
  },
  {
   "cell_type": "markdown",
   "metadata": {},
   "source": [
    "### 1/03/2024"
   ]
  },
  {
   "cell_type": "markdown",
   "metadata": {},
   "source": [
    "* Møde med Lars og Theis omkring computer og data\n",
    "\n",
    "* Alle i gruppen er til stede\n",
    "\n",
    "* **Noter omkring data:**\n",
    "    * Data fås i Excel format\n",
    "    * Måles i følgende \"attributes\":\n",
    "        * CPR, Alder på operationstidspunkt, Køn, Dødsdato, Død inden for 1 år af operationen, operationsdato, Operations SKS kode og operationsnavn \n",
    "    * Vi kigger på 8000 patierner, men der er målinger for op til 46000 patienter\n",
    "    * Hvis der er et eksempel men en værdi er 0 (som pulsen) men blodtryk og andre værdier ikke er 0, så er der sket en fejlmældning\n",
    "\n",
    "* Omkring operationens gennemgang:\n",
    "    * Stareter med induktion og går derefter til bypass indtil hjertet stopper, derfra kan man stage Aorta tangen af. Herefter stoppes bypass og data indsamling stoppes.\n",
    "\n",
    "* Fokuspunkter på forskningsspørgsmål:\n",
    "    * Gå efter target \"død\""
   ]
  },
  {
   "cell_type": "markdown",
   "metadata": {},
   "source": [
    "### 22/03/2024 (virtual)"
   ]
  },
  {
   "cell_type": "markdown",
   "metadata": {},
   "source": [
    "* Alle var tilstedeværende til mødet\n",
    "\n",
    "* Spørgsmål omkring computeren blev stillet, men løsning vedrørnde adgang til at pip installere pakker mangler stadig\n",
    "\n",
    "* Lars gennemgik diverse Excel data filer, herunder hvad de indeholdte og forklarede, at hver patient havde et \"falsk\" ID navn for notationens skyld (denne, for hver patient, er det samme gennem alle filerne)\n",
    "    * For eksempel viser et Excel dokument Alkohol og rygning forbundet med en vis usikkerhed (under samme filnavn)\n",
    "    * Enheden for målinger i Excel filen \"Advancerede hæmofynamiske mål\" er målt i mililiter kviksøl (står udmiddelbart ikke i selve filen)\n",
    "    * Problemlisten er en vigtig film som lister patienters sygdomme, som for eksempel at nogen har haft blodprop eller hjertestop før eller lider af sukkersyge\n",
    "\n",
    "Flere noter med hensyn til variable i diverse Excel filer:\n",
    "\n",
    "**Alkohol:**\n",
    "\n",
    "* Anæstasi er fra respirator \n",
    "\n",
    "* Blodtryk måles på 2 forskellige måder\n",
    "\n",
    "* Kateter i pulsåre i håndleddet og bånd i armen\n",
    "\n",
    "* Giver samme resultat, kater mere præcis \n",
    "\n",
    "* Puls og frem er fra monitor alt over er fra respirator\n",
    "\n",
    "**I cirk:**\n",
    "\n",
    "* Ting kan optræde flere fange alt efter hvor de henter data fra.\n",
    "Map tryk kan udregnes ud fra blodtrykket \n",
    "\n",
    "* Missing values fordi de ikke er gået i gang endnu \n",
    "\n",
    "* Nogen får målt tryk i længere ikke alle og derfor vil der være mange missing values\n",
    "Anæstasihændelse \n",
    "\n",
    "* Induktion er når patienten bliver bedøvet på stuen.\n",
    "Stop er når patient bliver kørt ud \n",
    "\n",
    "**Cv bypass:**\n",
    "\n",
    "* At klemme aorta af er en vigtig måling\n",
    "\n",
    "* Har betydning for hvordan de går dem.\n",
    "Blødning\n",
    "\n",
    "* Kan lave en summering af hvor meget de har blødt\n",
    "\n",
    "* Dialyse er ikke vigtig lige nu\n",
    "\n",
    "* Outcome i hvordan går det dem\n",
    "\n",
    "* Er de i dialyse eller ej\n",
    "\n",
    "**Ekko:**\n",
    "* Skannet deres hjerte med ultralyd \n",
    "\n",
    "* Nogen er ikke relevante og det finder chao, Theis og Lars ud af\n",
    "\n",
    "**Intellispace:**\n",
    "\n",
    "* Samme som ekko bare med meget mere data kan have noget der er målt to gange\n",
    "\n",
    "**Ita:** \n",
    "\n",
    "* Hvor længe er de på intensiv, ligegyldig om det er på riget eller Hvidovre\n",
    "\n",
    "**Kag:**\n",
    "\n",
    "* Undersøgelse af krans pulsåre \n",
    "\n",
    "* Mange patienter har fået lavet bypass.\n",
    "\n",
    "* Krans kan have været forsnævret ellers helt lukket af \n",
    "\n",
    "* Hvilke kar og hvor meget er de lukket af\n",
    "\n",
    "**Lab svar:**\n",
    "\n",
    "* Alle de blodprøver de får målt\n",
    "\n",
    "* Her skal alt ikke bruges \n",
    "\n",
    "* Men stiger nyretallet og stiger blodprocenten. \n",
    "\n",
    "* Får de infektioner\n",
    "\n",
    "**Dræn:**\n",
    "\n",
    "* Lunge og væskhule\n",
    "\n",
    "* Væske de taber\n",
    "\n",
    "* Ikke så mange af dem\n",
    "\n",
    "* Problemliste. \n",
    "\n",
    "* Hvor syge var de i forvejen? \n",
    "\n",
    "* Hvad fejlede de?\n",
    "\n",
    "* Har stor indflydelse på hvordan det går dem\n",
    "\n",
    "**Respirator:**\n",
    "\n",
    "* Indstillinger fra respirator\n",
    "\n",
    "* 2 forskellige maskiner så dataen kan godt være lidt forskellig\n",
    "\n",
    "* Hvis de stopper med at trække vejret, hvornår skal maskinen så gøre noget. Det er ikke vigtigt\n",
    "\n",
    "**Spir:**\n",
    "\n",
    "* Hvor lunge syge er de når de går til operation\n",
    "\n",
    "**Total:**\n",
    "\n",
    "* Hvad får de ind\n",
    "\n",
    "* Væske og medicin\n",
    "\n",
    "* Filtrere på tiden, så kan man se under operationen"
   ]
  },
  {
   "cell_type": "markdown",
   "metadata": {},
   "source": [
    "### 17/06/24 (Vituelt møde med Lars)"
   ]
  },
  {
   "cell_type": "markdown",
   "metadata": {},
   "source": [
    "DI og DJ \n",
    "- Husk: DE, DN (Nyrejnsuficcienes??)\n",
    "  - Kan godt sortere i DN\n",
    "- Sorteres efter hyppighed, 10-20, hvis der er nogen han ikke har sagt, kan vi tage det med\n",
    "Populationen af patienter skal tages for population.csv, deres operationskoder, \n",
    "problemliste er alle de diagnoser de har ud over det, der kan man ikke sige at noget ikke er relevant, Det burde mordellerne finde, (hvis en har en øjnsygdom, så kommer den ikke til at bone ud.)\n",
    "  - Mange vil have sukkersyge og forhøjet blodtryk, det vil den bone ud på\n",
    "    - Blodsygdomme, leversygdomme, og nyresygdomme\n",
    "      - Infektion i blodet kommer ikke frem i DI, Det vil være under DA, men det vil være noget de har bagefter, det er ikke nogdet de kommer til operationen med\n",
    "    - Hvad har folk medst? \n",
    "  \n",
    "\n",
    "Operations koderne er det relevant at tage det hele \n",
    "mange vil gå igen, og nogen vil være mindre hyppige og der har vi ikke nok om data til at det bliver brugbart. \n",
    "\n",
    "Univariat regression og en multivariat regression \n",
    "\n",
    "God idé med chi-squared \n",
    "\n",
    "Ekko data: droppe det, fordi der er mange ting der måler det samme men på forskellige måder og burde være meget korreleret, men med forskellig usikkerhed. \n",
    "\n",
    "Hvordan skal vi håndtere de forskellige vi mangler?\n",
    "  - EKG: der kan sagtens være at qtc intervallet er relevant, men at rtc ikke er relevant\n",
    "    - Tage hver ting for sig\n",
    "  - KAG: Den viser hvilke kar der er lukket sammen, hvor sidder aflukningen af det kar\n",
    "    - 40% halv åben\n",
    "    - LAD 90% er værer end en ACA på 90%\n",
    "    - lave en interaktion mellen de to\n",
    "    - Det er værre at have en ACA på 90% end en LAD på 40%\n",
    "    - Lav en variable for hver af de kar\n",
    "  - LAB svar: ID1, EGFR/1 er patientes nyrefunktion\n",
    "    - hænger sammen med kretanin\n",
    "    - Hæmoglobin (hvor mange blodplader har de)\n",
    "      - Lav hæmoglobin er at det nok ikke er optimalt til at starte med, så det kan have en indflydelse\n",
    "    - Plastman glykose kan man også kigge på (pre sukkersyge?)\n",
    "    - Ecosytter, forhøjet kan være tegn på inflamation\n",
    "    - Tromposytter for lave kan være at patienten har en form for kronisk påvirkning, patienten ikke er i balance\n",
    "    - Troponin, \n",
    "    - Kretinkrinase NB\n",
    "    - Kretinkrinase P\n",
    "      - Hjertet ikke får blod nok\n",
    "    - \n",
    "\n",
    "- Fint bare at tage den første operation, da det er den det drejer sig om\n",
    "\n",
    "- ADT kan vi ikke bruge til noget, mere administrativt\n",
    "\n",
    "- Lungesygdom, dialyse, indlæggelses tid\n",
    "\n",
    "- Ikke pleaudren\n",
    "- Urin er et udtryk for nyrefunktion, nul eller lidt urin er et tegn på det ikke blive produksere, skal ikke bruges som pre,\n",
    "- Medicin:\n",
    "  - Til træning er det kun det medicin de får inden\n",
    "  - Ikke noget der nødvendigvis er irelevant\n",
    "  - medicin for forhøjet blodtryk\n",
    "  - vandrivende medicin for nyre svigt\n",
    "  - Smertestillende, folk der tager fast smertemedicin\n",
    "  - Timestamp: \n",
    "    - (administrations tid)\n",
    "    - Dato ? \n",
    "      - ny medicin fil med timestamp \n",
    "  - Meget af medicinen er givet under, eller\n",
    "  - er kategoriseret i ATC ? \n",
    "  - I forhold til dosis: Dosis kigger vi ikke på, JA NEJ rent binært\n",
    "    - post \n",
    "    - meget af det bliver ikke givet som hjemme medicin\n",
    "    - typemedicn så skal man tilføje antal slags\n",
    "    - \n",
    "\n",
    "- viewpoint er under EKKO\n",
    "- Hvis de allerede er dialyse patienter, så går det rigtig dårligt for dem - Kig på den også\n",
    "\n",
    "\n",
    "- Prioritere hvis vi kommer under pres?\n",
    "  - dødlighed under pre operative\n",
    "  - Forudsige forskellige grupper ud for korrelation\n",
    "- Lars forlår at kigge informative for helt sætteoptte\n",
    "- bare tage en 30 eller 90\n",
    "- om vi får prediteret alle de forkellige ting, nyre er fint nok\n",
    "- det sjove er at kunne få data til at arbejde for sig. \n",
    "\n",
    "- Kan være muligt at fortsætte på sit bachelor projekt (spørg Morten)\n",
    "  - De er muligt for Lars"
   ]
  },
  {
   "cell_type": "markdown",
   "metadata": {},
   "source": [
    "### 18/06/24 - Møde med Morten"
   ]
  },
  {
   "cell_type": "markdown",
   "metadata": {},
   "source": [
    "- Perspektivering\n",
    "  - Undersøge fairness\n",
    "  - Kritisk blik \n",
    "  - Hvad skal der til når mam tager den ud i hospitalet\n",
    "- Bias etik og fairness\n",
    "- Hvis en læge blindt stoler på AI\n",
    "- Figur tekst, oversæt til engelsk, eller fodnote\n",
    "- For forture resarch, forskiningspørgsmål 2 \n",
    "  - Ikke have det som et research question\n",
    "  - ikke noget forskingsspørgsmål, vi ikke får svar på\n",
    "  - Forkalre hvorfor det er væk\n",
    "  - kan godt være vi godt kan nå det\n",
    "- performance\n",
    "\n",
    "- Forskningsningsrpøgsmål: ændre fra korrelation til performance\n",
    "  - Mere interessant\n",
    "\n",
    "- Referet til artikler\n",
    "\\citep \n",
    "\\citetet (Giver forfatternavn)\n",
    "\n",
    "Genlæs kontrakten\n",
    "\n",
    "- Resultater\n",
    "  - Kan man se enkelte datapunkter eller kan man ikke\n",
    "\n",
    "- Data:\n",
    "  - Ikke interpolation\n",
    "  - droppe features der har rigtig mange NaN\n",
    "    - Hvis det er NaN, er det så overhoved noget man kan bruge i virkeligheden\n",
    "    - Det går ikke at droppe næsten halvdelen\n",
    "    - Binær variable, gode eller dårlige lunger\n",
    "  - Drop dem selvom de er vigtige, hvis man har målt den, er fordi man nok har tænkt der var noget, som kan give bias i vores population\n",
    "  \n",
    "- Medicin:\n",
    "  - Data matrice one-out-of-k, og data komprimere (PCA på datamatrice)\n",
    "  - Group \n",
    "\n",
    "- Ingen RNN, vi kan ikke nå det, brug det i perspektivering\n",
    "- MLP på tabulær data\n",
    "\n",
    "- Tabulær data, \n",
    "\n",
    "- Alt vi har gjort at overvejelser kan vi skrive i diskution\n",
    "\n",
    "- For den bedste model, performance\n",
    "\n",
    "- RUC AUC og PA AUC og accuracy, som performance mål\n",
    "- Hyperparamerter tuning\n",
    "- Logiske regression skal ... \n",
    "- RF , to kryds validering, kigger på deres hyperparameter\n",
    "  - indre folder tuner vi modeller 5 fold minimal (vis error)\n",
    "  - ydre folder .. \n",
    "\n",
    "- Valg vi har truffet:\n",
    "  - Drop chi-squared \n",
    "  - Start med nyresvigt\n",
    "  - Drop de data der har alt for meget missing\n",
    "  - tidsrækker, der skal om konvateret til tabulær data, mean, max, 4 variabler pr tidsrække  ...\n",
    "  - \n",
    "\n",
    "- Skrive i metode at vi tager udgangspunkt i den her, som pgså outperformer euroscore. \n",
    "- hvad fandt vi ud af, hvad var godt. \n",
    "- De modeller de har fat i, er det vi tager fat i. \n",
    "- Kort fortælle om vores modeller\n",
    "  - SVM, kender vi ikke\n",
    "  - Gradient boosting, kender vi ikke\n",
    "  - De andre mdoeller kan vi godt kort fortæller om, ikke pensle ud om\n",
    "  - Skal kunne redegøre for vores modeller\n",
    "  - PA AUC kender vi ikke, tredshold ....\n",
    "  - RUC AUC kender vi \n",
    "\n",
    "- Gennemsnit og standard diviatien \n",
    "- hvordan er metoder i forhold til hinanden\n",
    "  - MCnemar, til at sammenligne\n",
    "    - Bygger på accuracy .. \n",
    "    - hvad er accuracy og baseline i accuracy, "
   ]
  },
  {
   "cell_type": "markdown",
   "metadata": {},
   "source": [
    "### 21/06/24 - Møde med Morten"
   ]
  },
  {
   "cell_type": "markdown",
   "metadata": {},
   "source": [
    "Morten hjalp med os med at få styr på det sidste på vores modeller og med at ændre vores neurale netwærk, så vi ikke har for mange hidden layers og alt for mange noder. Dertil hjalp han os med at få styr på det formelle til rapporten og eksamen. Men også med de ting vi have tvivl om i forhold til vores rapport skrivning, hvortil vi ændrede opstillingen og skrev metode og teori sammen og droppede teori afsnittet. Dertil indførste vi et afsnit om implementering. "
   ]
  },
  {
   "cell_type": "markdown",
   "metadata": {},
   "source": [
    "## **Spørgsmål til møder:**"
   ]
  },
  {
   "cell_type": "markdown",
   "metadata": {},
   "source": [
    "### 18/06/24"
   ]
  },
  {
   "cell_type": "markdown",
   "metadata": {},
   "source": [
    "#### Møde med Morten"
   ]
  },
  {
   "cell_type": "markdown",
   "metadata": {},
   "source": [
    "* Må vi bruge plots det er lavet på det rigtige dataset, eller skal plots og perfomance også være fra et syntetisk dataset?  \n",
    "  * eller rigtige tal\n",
    "* Kan Morten hjælpe med at kigge på vores kode og metode og se om vi er på rette vej, eller om har kan guide i hvilken vej vi skal\n",
    "* Er vores forskingsspørgsmål overhoved muligt? \n",
    "* Hvordan håndterer vi de flere diganoser fra hver patient? (SKS)\n",
    "* Kan Morten hjælpe med hvad vi skal gøre med missing values?\n",
    "  * skal de fjeres? (væsentlig reduceret datasæt)\n",
    "  * eller skal vi gætte (interpolation) på de missings values ud fra vores andre varibler? (ranges og laver et kvalifiseret gæt)\n",
    "* Format ang. FN verdensmål\n",
    "  * hvordan referer man?\n",
    "* Hvordan formelt referer man til andre artikler\n",
    "* Hvordan formelt referer man til citater fra andre artikler\n",
    "\n",
    "* Kan det være muligt at fortsætte til sit bachelor projekt, Lars siger de altid gerne vil samarbejde\n",
    "* Hvor meget skal vi gå i dybte med metode i forhold til hvad vi har gjort i koden? \n",
    "\n",
    "* Hvordan gør vi med Medicin tabellen?"
   ]
  },
  {
   "cell_type": "markdown",
   "metadata": {},
   "source": [
    "### 17/06/24"
   ]
  },
  {
   "cell_type": "markdown",
   "metadata": {},
   "source": [
    "#### Møde med Lars"
   ]
  },
  {
   "cell_type": "markdown",
   "metadata": {},
   "source": [
    "* hvordan skal vi håndtere diagnoserne, i forhold til vigtigheden af deres sygdomme?\n",
    "* Hvilket data er mest releveant\n",
    "* Hvad er mest relevenat i ekko, lab svar, ?\n",
    "* Skal vi måde kigge på FVC og FEV1 og FEV1/FVC (ratioen), eller er det nok bare med FEV1/FVC (ratioen)? \n",
    "* Hvad er veiwpoint?\n",
    "* Hvad med Dialyse?\n",
    "* Hvad er Pleuraddren?\n",
    "* Hvad er KAG\n",
    "\n",
    "* Finde ud af hvor meget af det her er relevant? og om vi må forkaste tingene vi tænker at forkaste\n",
    "\n",
    "* Der var lungesygdom, dialyse og .... hvad er den sidstesygdom som vi skal forudsige?"
   ]
  },
  {
   "cell_type": "markdown",
   "metadata": {},
   "source": [
    "## **Møde med feedback gruppe**"
   ]
  },
  {
   "cell_type": "markdown",
   "metadata": {},
   "source": [
    "Onsdag den 3 april, blev der afholdt feedback møde angående det første \"færdige\" del af fagprojektet. \\\n",
    "Vi aftalte med den anden gruppe at mødes kl 14 i 324 på DTU. \n",
    "\n",
    "Inden mødes, mødtes vi alle 4 for at udarbejde et skriv til feedback gruppen, baseret på de 3 c'er og burger modellen. \n",
    "\n",
    "Vi alle 4 mødtes med feedbackgruppen. Mødte gik godt, de tog godt imod vores feedback og var alle aktiv lyttende. Der var dertil også samtale om nogen af kommentarerne, hvilket fungerede godt. \n",
    "\n",
    "Stemningen var god, og alle virkede glade. \n",
    "\n",
    "Feedback gruppen gav god feedback til vores opgave, og vi var alle dertil også aktiv lyttende. \n",
    "\n",
    "Der var dertil god samtale om ting i hinanden opgave, der var inspirerende, som hver gruppe ville tilføje til deres egen opgave. \n",
    "\n",
    "Mødet varede 45 minutter, og det blev aftalt at sende feedbacken på mail til hinanden. \n",
    "\n",
    "Efter mødet, blev Viktor, Lucia og Muneer og lige skrev det sidste få linjer på feedbacken så den kunne blive sendt afsted til den anden gruppe. Grundet til at de sidste linjer ikke blev gjort færdig, var at feedback gruppen, kom 10 min før aftalt tid. \n",
    "\n",
    "Det blev aftalt at Ditte skrev logbog, hvor de andre skrev det sidste. "
   ]
  },
  {
   "cell_type": "markdown",
   "metadata": {},
   "source": [
    "## **Opdatering af projektplan**"
   ]
  },
  {
   "cell_type": "markdown",
   "metadata": {},
   "source": [
    "Tirsdag den 1. maj gik vi i gang med at arbejde på den opdateret plan af projektet. Vi mødtes virtuelt og alle var til stede. Her lavede vi en Gantt chart, hvori vi lagde en plan for hvilke datoer vi ville arbejde med hvad og sat deadlines på de forskellige sections. Gantt charten hjalp os med at få et overblik over hvor lang tid vi skal bruge på de forskellige sectioner, og om det er feasible. Derudover har vi opdateret vores project canvas så det passer med alt vi har gennemarbejdet og alt vi har planlagt at lave. Sidst opdaterede vi vores projektbeskrivelse hvor der blev taget højde for den feedback vi fik fra vores peers."
   ]
  },
  {
   "cell_type": "markdown",
   "metadata": {},
   "source": [
    "## **Møder med \"søster\" gruppe**"
   ]
  },
  {
   "cell_type": "markdown",
   "metadata": {},
   "source": [
    "### 10/06/24"
   ]
  },
  {
   "cell_type": "markdown",
   "metadata": {},
   "source": [
    "Kl 12.00\n",
    "\n",
    "Alle i vores gruppe mødtes med søster gruppen for at spare ang. fagprojektet. \n",
    "Vi talte om hvordan data bliver sorteret samt det at lave syntetisk data eller ej. \n",
    "Dertil var vi inde på hvilke forskellige modeller vi hver især benytter, samt hvad vores fokus er / forskingsspørgsmål. \n",
    "Vi er blevet klogere på at vi ikke skal bruge mere fokus på at finde ud af at generere syntetisk data, da det kræver enormt meget. Dertil kan vi lave pyton fil, som kun indeholder kode, som bliver det der bliver oploadet til git, så dataen ikke kommer til git. \n",
    "\n",
    "Dertil er vi blevet klogere på at forstå daten, da vores søster gruppe har brugt meget tid på at forstå dataen. \n",
    "\n",
    "Ydermere, har vi talt om hvordan vi forholder os til EuroSCORE, og vi har måtte erkende at vi ikke kan holde vores modeller op til EuroSCORE, da vi ikke kan få EuroSCOREN på patienterne i dataen, og dertil har vi ikke de samme features i datasættet, som EuroSCOREN bygger på. "
   ]
  }
 ],
 "metadata": {
  "kernelspec": {
   "display_name": "Python 3",
   "language": "python",
   "name": "python3"
  },
  "language_info": {
   "codemirror_mode": {
    "name": "ipython",
    "version": 3
   },
   "file_extension": ".py",
   "mimetype": "text/x-python",
   "name": "python",
   "nbconvert_exporter": "python",
   "pygments_lexer": "ipython3",
   "version": "3.10.11"
  }
 },
 "nbformat": 4,
 "nbformat_minor": 2
}
