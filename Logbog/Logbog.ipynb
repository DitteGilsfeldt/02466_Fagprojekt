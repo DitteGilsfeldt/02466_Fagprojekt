{
 "cells": [
  {
   "cell_type": "markdown",
   "metadata": {},
   "source": [
    "# Logbook"
   ]
  },
  {
   "cell_type": "markdown",
   "metadata": {},
   "source": [
    "## Learning goals"
   ]
  },
  {
   "cell_type": "markdown",
   "metadata": {},
   "source": [
    "At kunne træne AI modeller på data\n",
    "\n",
    "At kunne forstå datasæt\n",
    "\n",
    "Være bekendt med at kode machine learning modeller\n",
    "\n",
    "At kunne bruge forskellige machine learning modeller\n",
    "\n",
    "At kunne evaluere modellernes performance\n",
    "\n",
    "At bruge statistiske tests til evaluering\n",
    "\n",
    "At kunne bruge modellerne til at bestemme hvilke patienter, der er i høj eller lav risiko\n",
    "\n",
    "At kunne bruge f.eks. gaussian modeller til at forudsige manglende punkter (manglende huller i modellen)"
   ]
  },
  {
   "cell_type": "markdown",
   "metadata": {},
   "source": [
    "## Template"
   ]
  },
  {
   "cell_type": "markdown",
   "metadata": {},
   "source": [
    "* Questions\n",
    "    * Questions here, and who to ask\n",
    "* Reading, who and what\n",
    "    * What was read?\n",
    "* Implementation, who and what\n",
    "    * What was implemented and worked on\n",
    "* Results, who and what\n",
    "    * Results of these implementations.\n",
    "    * Do we need to reevaluate the results next time\n",
    "* Decisions, who and what, what do you do alone, what do you do together\n",
    "    * What decisions were made?"
   ]
  },
  {
   "cell_type": "markdown",
   "metadata": {},
   "source": [
    "## Project meetings"
   ]
  },
  {
   "cell_type": "markdown",
   "metadata": {},
   "source": [
    "### 07/02/2024"
   ]
  },
  {
   "cell_type": "markdown",
   "metadata": {},
   "source": [
    "* Questions\n",
    "    * When do we get access to the project dataset? Ask supervisor\n",
    "* Reading, who and what\n",
    "    * No material was read today.\n",
    "* Implementation, who and what\n",
    "    * A colaboration-contract has been made containing the aproach and what is expected of eachother.\n",
    "    * We have formulated some questions we want to ask the supervisor for the next meeting.\n",
    "* Results, who and what\n",
    "    * We have finished the colaboration - contract which is a part of the assignment the 28/2.\n",
    "* Decisions, who and what, what do you do alone, what do you do together\n",
    "    * A meeting has been set up with the supervisors next Tuesday 13/2 16:00. This will be a virtual meeting."
   ]
  },
  {
   "cell_type": "markdown",
   "metadata": {},
   "source": [
    "### 21/02/24"
   ]
  },
  {
   "cell_type": "markdown",
   "metadata": {},
   "source": [
    "Vi (Ditte, Lucia, Viktor) mødtes til vejleder mødet, hvor vi efterfølgende, opdaterede vores gruppemedlem der ikke hørte starten af vejledermødet grundet forsinkelse på en halv time (Muneer). \n",
    "Dertil arbejde vi på at få udarbejdet en projekt beskrivelse, samt læse de links vi har fået givet omkring EuroSCORE. \n",
    "\n",
    "Vi havde en 5-6 forskingsspørgsmål, vi lige ville lade ligge til efter forelsæningen, og lige få klart syn på hvad vi ville i fagprojektet. \n",
    "Efter forelæsnignen havde vi møde med vores \"søster-gruppe\" hvor vi brainstromede på forskingsspørgsmål, dette møde deltager Ditte, Lucia og Viktor.\n",
    "\n",
    "**Brainstorm forskningsspørgsmål** \\\n",
    "<img src= \"img/2024-02-28-14-13-25.png\" style=\"width:30rem;\">\n",
    "\n",
    "Efter vi havde brainstormet, kiggede vi på vores forskingsspørgsmål og næsten færdig gjort vores udkast til projekt beskrivelsen. \n",
    "Projektbeskrivelsen, skrives primært at Ditte, Lucia og Viktor, da Muneer ikke havde sin computer med, og ikke har responderet på meddelser på Discord ang. ændringer i projekt beskrivelsen"
   ]
  },
  {
   "cell_type": "markdown",
   "metadata": {},
   "source": [
    "### 27/02/24"
   ]
  },
  {
   "cell_type": "markdown",
   "metadata": {},
   "source": [
    "kl 10.54 har Ditte Lucia og Viktor godkendt nyt vejleder møde, efter samtale på discord, hvor Muneer ikke har deltaget i samtale"
   ]
  },
  {
   "cell_type": "markdown",
   "metadata": {},
   "source": [
    "### 28/02/24"
   ]
  },
  {
   "cell_type": "markdown",
   "metadata": {},
   "source": [
    "Ditte, Lucia og Viktor mødes efter forelæsningen og skriver projekt beskrivelsen færdig, med de rettelser der er kommet fra vejleder. \n",
    "\n",
    "Dertil udarbejdes der en mail til Muneer, ang. gruppe samarbejdet. \n",
    "\n",
    "Der undersøges litteratur til vores projekt. \n",
    "\n",
    "Ingen besked fra Muneer om fraværelse.\n",
    "\n",
    "Projektbeskrivelse, Gantt Chart, Samarbejdsaftale, Project Canvas og Læringsmål afleveret."
   ]
  },
  {
   "cell_type": "markdown",
   "metadata": {},
   "source": [
    "#### Forløbige artikler"
   ]
  },
  {
   "cell_type": "markdown",
   "metadata": {},
   "source": [
    "- https://findit.dtu.dk/en/catalog/652c8a0f2fa76a1b70c0f344\n",
    "- https://findit.dtu.dk/en/catalog/64bf66db76bd98312b7d8cd7\n",
    "- https://findit.dtu.dk/en/catalog/6420dfb03a65a13c29450683\n",
    "- https://findit.dtu.dk/en/catalog/5c47be8bd9001d019d32f1db"
   ]
  },
  {
   "cell_type": "markdown",
   "metadata": {},
   "source": [
    "**Mail sendt til Muneer:**\\\n",
    "Hej.\n",
    "Vi oplever at der er nogle problemer og mangler i forhold til vores samarbejde. \n",
    "\n",
    "Vi synes, at det er svært at have et samarbejde om projektet, når du kommer for sent til møderne, ikke dukker op til det aftalte, og ydermere ikke kommer og har en computer med til at kunne bidrage med at skrive på projekt beskrivelsen. \n",
    "\n",
    "Dertil ønsker vi at der kommer kommunikation, som også har været manglende på det seneste. Jeg referer til vores sammenarbejdskontrakt, hvor vi har skrevet under på at man giver besked, når man ikke kommer. Dette hører vi intet om, idet svar og reaktioner på vores discord server er manglende.\n",
    "\n",
    "I flere tilfælde har vi meddelt opdateringer i forhold til, hvor langt vi er med det nuværende arbejde, hvilke tanker vi har gjort os for fremtidige opgaver samt, hvad lægerne har meddelt over teams. Siden vi ikke hører noget fra din side, er vi usikre på, i hvor stor grad du er up-to-date med vores nuværende projekt status. Yderligere, ved vi heller ikke om du har sent en underskrevet kontrakt til lægerne, hvilket et krævet for at kunne bruge computeren, og om du er klar over, at en nyt møde finder sted fredag med en hovedansvarlig fra hospitalets IT-afdeling.\n",
    "\n",
    "Dette gør, at vi har nogle krav til dig, som du skal have bevist inden vores \"midsvejsaflevering\" om 3 uger. Er disse ting ikke blevet bedre, må vi desværre meddele at du ikke kan være en del af vores gruppe derefter. \n",
    "\n",
    "Hold øje med Discord og svar.\n",
    "Være der til, det vi aftaler (også selvom man har travlt, for det har vi alle) .\n",
    "Det forventes 9 timer om ugen og dette har vi ikke krævet over.\n",
    "Hold øje med teams og discord og svar på tingene (så det er tydeligt for os, at du har set beskederne og er opdateret).\n",
    "Medbringe computer hver gang.\n",
    "\n",
    "Mvh \n",
    "Ditte, Lucia og Viktor\n",
    "\n",
    "28/02/24 kl 15:40"
   ]
  },
  {
   "cell_type": "markdown",
   "metadata": {},
   "source": [
    "Muneer bliver smidt ud af gruppe ved samtale med Morten Mørup, da han ikke har svaret i 2,5 uge. Hverken på Discord eller mail. \\\n",
    "Muneer bliver fjernet fra Discord og git. Samme aften kontakter Muneer grupper, med besked hvad er der sket med vores discord gruppe. \\\n",
    "Vi (Ditte, Lucia og Viktor) får at vide af Morten Mørup, at da han nu har svare skal vi stadig give ham en chance og derved skrive til ham. \\\n",
    "\n",
    "**Mail koorspondance med Muneer:**\\\n",
    "06/03/24 kl. 19:50\\\n",
    "\n",
    "Hej,\\\n",
    "Jeg bliver nødt til at indrømme at jeg først ser denne mail nu. Jeg har simpelthen haft en dårlig periode i den sidste måned grundet personlige årsager, der har forårsaget massere af fravær fysisk og skriftligt på DTU, og jeg er ikke selv tilfreds med mit bidrag og ustabilitet.  Jeg er virkelig ked af jeg hvis jeg ikke kan være med fremover for jeg har mange gode ideer og tænker tit på projektet (har bare ikke haft mulighed på at arbejde på det tekniske grundet vi manglede data.)  Jeg er tilbage på fødderne nu, og jeg håber i kan give mig en chance til, hvor jeg så lover jeg overholder vores aftaler mht. samarbejdskontrakten, for det er virkelig et projekt jeg vil arbejde på og have det bedste ud af.\n",
    "\n",
    "Venlig hilsen,\\\n",
    "Muneer\\\n",
    "\n",
    "\n",
    "07/03/24 \\\n",
    "kl 08:36\\\n",
    "Kære Ditte, Lucia og Victor,\n",
    " \n",
    "Kan se Muneer igår har svaret på jeres besked, inden jeg i dag ville skrive ud til ham og jer om gruppesamarbejdet.\\\n",
    " \n",
    "Jeg synes vi skal holde fast i planen, vi aftalte oprindeligt. Dvs. give Muneer opgaver til midtvejsafleveringen, og hvis der ikke leveres på disse som aftalt og samarbejdet med hans indsats stadig ikke er tilfredsstillende, må skridtet tages videre til at han ikke kan være en del af jeres gruppe.\n",
    " \n",
    "Vil I skrive til Muneer og sikre han har klare opgaver at levere på til jeres samarbejde, som aftalt.\n",
    " \n",
    "Bedste hilsener\\\n",
    "Morten\n",
    "\n",
    "\n",
    "kl 08:40\\\n",
    "Hej Morten.\\\n",
    "Vi svarer Muneer på hans mail og holder fast i planen. \n",
    "\n",
    "Mvh\\\n",
    "Ditte Gilsfeldt \\\n",
    "Studie nr: s210666\n",
    "\n",
    "\n",
    "kl 08:52\\\n",
    "Hej Muneer. \\\n",
    "Vi giver dig en chance til i gruppen, men må indrømme at selvom man personlig har det svært, så er man også nødt til at være ansvarlig og få kommunikeret til sin gruppe. At der intet er hørt fra dig i 2 en halv uge, det er ikke okay. Vi kan jo lidt se du følger med på discord siden du samme dag opdager at du egentlig er ude af gruppen, samt flere gange er online, til at vi meget har undret os over den manglende kommunikation. \n",
    "\n",
    "Vi vælger dog stadig med vores ret, at hvis tingene ikke bliver bedre inden midtvejsevalueringen, så kan du ikke være en del af gruppen. \n",
    "\n",
    "Det gælder at du overholder følgende: \\\n",
    "Får underskrevet kontrakten med Rigshospitalet, før dette kan du ikke bruge computeren. \\\n",
    "Kommunikere til os og vejleder\\\n",
    "Kommer til det aftalte til tiden og også med computer. \n",
    "\n",
    "Dertil har vi andre heller ikke kunne arbejde på dataen da vi først får computeren i morgen, men det betyder ikke at der ikke har været ting der skulle laves. \n",
    "\n",
    "Mvh\\\n",
    "Ditte Gilsfeldt \\\n",
    "Studie nr: s210666\n",
    "\n",
    "\n",
    "kl 14:20\\\n",
    "Hej,\\\n",
    "Kan du hjælpe mig med den kontrakt der skal sendes til Rigshospitalet? Hvor er den og hvordan skal den sendes?  Tak på forhånd.\n",
    "\n",
    "Venlig hilsen,\\\n",
    "Muneer\n",
    "\n",
    "kl 17:11\\\n",
    "Send mig lige din oplysninger til git og discord. Så tilføjer jeg dig igen. Og så ligger den der inde.\n",
    "\n",
    "Mvh\\\n",
    "Ditte Gilsfeldt\\\n",
    "Studie nr: s210666\n",
    "\n",
    "\n",
    "kl 17:55\\\n",
    "Git: muneer-kayali\\\n",
    "Discord: muneerkayali\n",
    "\n",
    "Mvh,\\\n",
    "Muneer\n",
    "\n",
    "kl 20.07\\\n",
    "Prøv lige at tjek om du har adgang nu. Ellers gør jeg det lige i morgen på computeren\n",
    "\n",
    "Mvh\\\n",
    "Ditte Gilsfeldt\\\n",
    "Studie nr: s210666\n",
    "\n",
    "\n",
    "08/03/24 \\\n",
    "kl 09.08\n",
    "\n",
    "Hej Muneer.\\\n",
    "Du burde have adgang når du godkender invitationerne.\n",
    "\n",
    "Mvh\\\n",
    "Ditte Gilsfeldt \\\n",
    "Studie nr: s210666\n",
    "\n",
    "kl 14.10\\\n",
    "Hej, har stadig ikke adgang.\n",
    "\n",
    "Mvh,\\\n",
    "Muneer Kayali\n",
    "\n",
    "kl 15:27\\\n",
    "Har du fået invitationen? \n",
    "\n",
    "Mvh\n",
    "Ditte Gilsfeldt \n",
    "Studie nr: s210666\n",
    "\n",
    "\n",
    "Dertil kommer der ikke flere mails, og Ditte har sendt utallige invitationer til Discord gruppen samt venne anmodning der ikke bliver svaret. \n",
    "Ditte kontakter Muneer på Messenger:\n",
    "\n",
    "\n",
    "10/03/24\\\n",
    "15:28\\\n",
    "Hej Muneer. Jeg har forsøgt i 2 dage at få dig ind i discord gruppen. Det er svært at få dig med i tingene når du kun svarer 1 gang på to timer. Forventer ikke du svarer hele tiden, men hvis du vil ind i discord gruppen, er du nødt til at kommunikere lidt mere med mig, så det kan lykkes. \\\n",
    "Hilsen Ditte\n",
    "\n",
    "Hvor Muneer svarer at han beklager men at han stadig ikke er med i gruppen på discord og at jeg kan sende ham en invitation, dertil svarer Ditte at der er sendt mange link, men at det ikke er muligt før han godkender venneanmodning og hertil kommer det op og kører. \n",
    "\n"
   ]
  },
  {
   "cell_type": "markdown",
   "metadata": {},
   "source": [
     
    "### 13/03/2024"
   ]
  },
  {
   "cell_type": "markdown",
   "metadata": {},
   "source": [
    "Ditte, Muneer og Viktor mødtes kl 10:00. Lucia er ikke til stede da hun er på ferie.\n",
    "\n",
    "Idag blev der skrevet på raporten,  da midtvejsafleveringen snart skal afleveres. Der blev kigget på flere artikler for at få en bedre forståelse af hvordan mortality kan forudsiges ved brug af AI. Der blev også undersøgt hvilke muligheder for syntetisk data, vi har til rådighed. \n",
    "\n",
    "potentielt library til syntetisk data: https://github.com/sdv-dev/SDV\n",
    "\n"
   ]
  },
  {
   "cell_type": "markdown",
   "metadata": {},
   "source": [
     
    "## Supervisor meeting"
   ]
  },
  {
   "cell_type": "markdown",
   "metadata": {},
   "source": [
    "### 13/02/2024 (virtual)"
   ]
  },
  {
   "cell_type": "markdown",
   "metadata": {},
   "source": [
    "#### Questions:\n",
    "- Da vi ikke er medicin studerende, hvordan ved vi hvad der er vigtigt?\n",
    "  - Hvilke metrics kan vi evaluere? \n",
    "\n",
    "- Hvordan finder vi balancen mellem hvor meget medicin' teori vi skal have med? - Hvornår får vi adgang til dataen\n",
    "\n",
    "- Vi husker at du nævnte, at datasættet er meget stort. Uden medicinsk baggrund, hvordan skal vi evaluerer hvilke features der er \"værd\" eller relevante at tage med for træning af modeller (hvis vi ikke kan træne på alle features)?\n",
    "\n",
    "  - Eller er det anbefalet at lave en form for feature selection eller statistiske analyse for at finde relevante features (analyse af correlation of påvirkninger)?\n"
   ]
  },
  {
   "cell_type": "markdown",
   "metadata": {},
   "source": [
    "Notes from the meeting:"
   ]
  },
  {
   "cell_type": "markdown",
   "metadata": {},
   "source": [
    "- Morten Mørup står for al ML delen og Lars står for Data\n",
    "- Lars = Anastasi læge (Hjerte afdeling)\n",
    "- Samlet data over 5 årigeperiode\n",
    "  \n",
    "- Data:\n",
    "  - 8000 patient forløb\n",
    "  - Alder, køn, fejl inden hjerte opretation, data under operation\n",
    "    - data under operation er bla det de har samlte ind\n",
    "    - Hvad data ser vi kun på en gang i mellem\n",
    "    - Hvad data kigger vi mest på\n",
    "  - Hvordan går det for patienter\n",
    "    - er det her en risiko patient\n",
    "      - er det end er kan risikere at dø, eller at det går dårligt\n",
    "      - evt skal de ikke operaes, hvis de har risiko for at dø \n",
    "        - Det her kan vi da lave noget ML til. \n",
    "    - eller er det en lav risiko patient \n",
    "  - Gemmer hvert minut dataen\n",
    "  - Størrelse af datasættet\n",
    "    - representativ\n",
    "    - Nemt at håndtere\n",
    "  - Overskueligt data\n",
    "  - Tænk over anomyseringen\n",
    "    - Jurisk er anomyseringen ikke godt nok\n",
    "\n",
    "- Outcome:\n",
    "  - Hvor længe overlever de\n",
    "  - hvor meget medicin skal de have\n",
    "  - Hvor meget support har de brug for\n",
    "\n",
    "- Sampler sjældent\n",
    "  - medicin \n",
    "  - krugien \n",
    "\n",
    "- Sample hyppigt\n",
    "  - Fx EKG\n",
    "\n",
    "- Der er allerede lavet ML på dataen\n",
    "  \n",
    "- Ny og spændende og værdifuldt for dem\n",
    "  - Kan vi undervej lavet en eller anden modellering undervejs af data der akn fortælle os nogen om tidligt i opreationen om det kommer til at gå dårligt\n",
    "  - Data pejer på at patienten ender i dialyse\n",
    "  - Euroscore siger noget om overlevelse men ikke om hvor lang tid forløbet tager\n",
    "\n",
    "- Der laves en kontrak til \"ansættes\" på rigshospialet\n",
    "- Få en laptop, der kan tilgå dataen.\n",
    "  - Laptoppen har ingen GPU og kan kun kører det den kan\n",
    "  - Kan godt tage laptoppen med sig\n",
    "  - 1 laptop til hver gruppe\n",
    "\n",
    "- Det er brgrænset hvilke informations kilder der hentes. \n",
    "\n",
    "- Taler overlevelse\n",
    "  - fx 90 dage\n",
    "  - På et år er det deres samlde \n",
    "\n",
    "- Tid på intensiv og tid på hospitalet ikke på operations bordet\n",
    "  \n",
    "- Hvis ikke man tager død så\n",
    "  \n",
    "- Forskningsspørgsmål:\n",
    "  - i hvilken grad kan man få explatertbart, men samtidig forstå ... \n",
    "\n",
    "- Teams gruppe\n",
    "  - invitere vejleder med\n",
    "\n",
    "- Mail til Lars\n",
    "  - chaoqun.zheng@regionh.dk\n",
    "\n",
    "- Mail til Chao\n",
    "  - lars.groenlykke@regionh.dk\n",
    "\n",
    "- baseline model (euro score)\n",
    "  - samlede .. overlevede\n",
    "  - logistisk regression\n",
    "  - lave Euro score selv på data\n",
    "    - se hvordan den beregner\n",
    "    - se hvordan den laver logistisk regression\n",
    "\n",
    "- Forstå modellen, eller om det bare at preditere godt?\n",
    "  - Klinisk relevant del\n",
    "    - State på behandling eller gøre om, så \n",
    "      - kendes betydningen af enkelte kombonenter\n",
    "      - vil gerne kunne handle\n",
    "    - **Explanibilliy er vigtig**\n",
    "      - Højt sat,\n",
    "        - er der en biologisk plausibilitet\n",
    "        - hvad kan være problamatisk\n",
    "          - kan forbygge\n",
    "        - modeller hvor det er nemmere at forklare\n",
    "\n",
    "- Skal kende de enkelte datakilder og redegøre og hvor de kommer fra\n",
    "  - Vigtigt for at kunne lave modellerne korrekt\n",
    "  - Standard mål, der er velbeskrevet\n",
    "  - Det medicin vi sksl kunne vil fx være, blodtryksmedicin til at sænke blodtrykket\n",
    "\n",
    "- Lars og Chao kan hjælpe med:\n",
    "  - Hvornår er blodtrykket ligesom nonsens\n",
    "  - Er det her overhoved biologisk muligt\n",
    "  - Data afgrænsning (god kvalitet af dataen)\n"
   ]
  },
  {
   "cell_type": "markdown",
   "metadata": {},
   "source": [
    "### 21/02/2024"
   ]
  },
  {
   "cell_type": "markdown",
   "metadata": {},
   "source": [
    "* data.gov\n",
    "* GMM af dataset for brug på vores egen computer\n",
    "* aflevering i denne uge/næste uge\n",
    "* align spørgsmål med hospitalet\n",
    "\n",
    "* Arbejdsspørgsmål\n",
    "    * 30/90 dages overlevelsesrate(vigtig)\n",
    "    * Bedre perfomance end tidligere model\n",
    "    * Hvor meget mere giver data under operationen?\n",
    "    * indlæggelsestid\n",
    "    * længde på operation\n",
    "    * cor mellem de forskellige target variables\n",
    "    * Hvad betyder det hvis patienter dør udner operationen\n",
    "    * Bliver de bedre til operationen over tid?\n",
    "    * 3 forskningsspørgsmål\n",
    "\n",
    "* Forskningsspørgsmål ka godt ændres hvis det er nødvendigt\n",
    "* Hvis vi ikke får bedre resultater end logistic regression er det ok, bare det er gjort rigtigt\n",
    "* Transformer Deep Learning\n",
    "* Opdeling i grupper af dataset\n",
    "* Samme perfomance metrics for alle models \n",
    "\n"
   ]
  },
  {
   "cell_type": "markdown",
   "metadata": {},
   "source": [
    "### 1/03/2024"
   ]
  },
  {
   "cell_type": "markdown",
   "metadata": {},
   "source": [
    "* Møde med Lars og Theis omkring computer og data\n",
    "\n",
    "* Alle i gruppen er til stede\n",
    "\n",
    "* **Noter omkring data:**\n",
    "    * Data fås i Excel format\n",
    "    * Måles i følgende \"attributes\":\n",
    "        * CPR, Alder på operationstidspunkt, Køn, Dødsdato, Død inden for 1 år af operationen, operationsdato, Operations SKS kode og operationsnavn \n",
    "    * Vi kigger på 8000 patierner, men der er målinger for op til 46000 patienter\n",
    "    * Hvis der er et eksempel men en værdi er 0 (som pulsen) men blodtryk og andre værdier ikke er 0, så er der sket en fejlmældning\n",
    "\n",
    "* Omkring operationens gennemgang:\n",
    "    * Stareter med induktion og går derefter til bypass indtil hjertet stopper, derfra kan man stage Aorta tangen af. Herefter stoppes bypass og data indsamling stoppes.\n",
    "\n",
    "* Fokuspunkter på forskningsspørgsmål:\n",
    "    * Gå efter target \"død\""
   ]
  },
  {
   "cell_type": "markdown",
   "metadata": {},
   "source": [
    "# Spørgsmål til møde:"
   ]
  },
  {
   "cell_type": "markdown",
   "metadata": {},
   "source": [
    "* Må vi bruge plots det er lavet på det rigtige dataset, eller skal plots og perfomance også være fra et syntetisk dataset?  "
   ]
  }
 ],
 "metadata": {
  "language_info": {
   "name": "python"
  }
 },
 "nbformat": 4,
 "nbformat_minor": 2
}
