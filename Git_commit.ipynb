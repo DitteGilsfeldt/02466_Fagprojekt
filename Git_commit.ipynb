{
 "cells": [
  {
   "cell_type": "markdown",
   "metadata": {},
   "source": [
    "The Git Commit for this gruop is not true and fair, for the reason that we only had one computer to work on with the code. \n",
    "Most we work two and two for the reason that it was possible to sit 4 people behind the same computer. \n",
    "\n",
    "Ditte and Lucia, had commit a lot, because we wrote the logbog and the referat from the meeting. \n",
    "\n",
    "We have all work on the code on the other computer in this projekt, but Muneer and Viktor had work on it more than Ditte and Lucia. "
   ]
  }
 ],
 "metadata": {
  "language_info": {
   "name": "python"
  }
 },
 "nbformat": 4,
 "nbformat_minor": 2
}
