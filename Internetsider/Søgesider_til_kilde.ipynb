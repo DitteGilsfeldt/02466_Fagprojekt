{
 "cells": [
  {
   "cell_type": "markdown",
   "metadata": {},
   "source": [
    "- https://findit.dtu.dk/\n",
    "- https://www.scopus.com/search/form.uri?display=basic#basic\n",
    "- https://scholar.google.com/"
   ]
  },
  {
   "cell_type": "markdown",
   "metadata": {},
   "source": [
    "- Altmetrics = Online synlighed\n",
    "  - https://www.altmetric.com/\n",
    "\n",
    "  - Jo højere tal, jo mere citeret er artiklen\n",
    "  - Jo flere farver, jo mere citeret er artiklen\n",
    "\n",
    "  - Brug tid på læse det med et højt tal eller mange farver. \n",
    "  - Find farverne der passer til sit emne"
   ]
  }
 ],
 "metadata": {
  "language_info": {
   "name": "python"
  }
 },
 "nbformat": 4,
 "nbformat_minor": 2
}
