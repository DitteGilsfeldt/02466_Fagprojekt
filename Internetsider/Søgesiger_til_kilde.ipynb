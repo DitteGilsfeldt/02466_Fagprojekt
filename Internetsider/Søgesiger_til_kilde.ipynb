{
 "cells": [
  {
   "cell_type": "markdown",
   "metadata": {},
   "source": [
    "- https://findit.dtu.dk/\n",
    "- https://www.scopus.com/search/form.uri?display=basic#basic\n",
    "- https://scholar.google.com/"
   ]
  }
 ],
 "metadata": {
  "language_info": {
   "name": "python"
  }
 },
 "nbformat": 4,
 "nbformat_minor": 2
}
