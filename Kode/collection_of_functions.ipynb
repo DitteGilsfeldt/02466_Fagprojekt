{
 "cells": [
  {
   "cell_type": "markdown",
   "metadata": {},
   "source": [
    "# **A collection of usefull functions for analysis**"
   ]
  }
 ],
 "metadata": {
  "language_info": {
   "name": "python"
  }
 },
 "nbformat": 4,
 "nbformat_minor": 2
}
