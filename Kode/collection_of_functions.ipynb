{
 "cells": [
  {
   "cell_type": "markdown",
   "metadata": {},
   "source": [
    "# **A collection of usefull functions for analysis**"
   ]
  },
  {
   "cell_type": "markdown",
   "metadata": {},
   "source": [
    "### **Feature selector using chi-squared test**\n"
   ]
  },
  {
   "cell_type": "code",
   "execution_count": null,
   "metadata": {},
   "outputs": [],
   "source": [
    "import pandas as pd\n",
    "from sklearn.feature_selection import SelectKBest\n",
    "from sklearn.feature_selection import chi2\n",
    "\n",
    "data = pd.read_csv('your_data.csv')  # Replace with your actual data file\n",
    "\n",
    "X = data.drop('target', axis=1)\n",
    "y = data['target']"
   ]
  },
  {
   "cell_type": "markdown",
   "metadata": {},
   "source": [
    "Applying chi-squared test"
   ]
  },
  {
   "cell_type": "code",
   "execution_count": null,
   "metadata": {},
   "outputs": [],
   "source": [
    "# Apply SelectKBest class to extract top 10 best features\n",
    "bestfeatures = SelectKBest(score_func=chi2, k=10)\n",
    "fit = bestfeatures.fit(X, y)\n",
    "\n",
    "# Get the scores for each feature\n",
    "dfscores = pd.DataFrame(fit.scores_)\n",
    "dfcolumns = pd.DataFrame(X.columns)\n",
    "\n",
    "# Concatenate the dataframes for better visualization\n",
    "featuresScores = pd.concat([dfcolumns, dfscores], axis=1)\n",
    "featuresScores.columns = ['Specs', 'Score']  # Naming the dataframe columns\n",
    "print(featuresScores.nlargest(10, 'Score'))  # Print 10 best features"
   ]
  },
  {
   "cell_type": "markdown",
   "metadata": {},
   "source": [
    "**Function for reuseability**"
   ]
  },
  {
   "cell_type": "code",
   "execution_count": null,
   "metadata": {},
   "outputs": [],
   "source": [
    "def chi_squared_feature_selection(data, target, k=10):\n",
    "    \"\"\"\n",
    "    Perform feature selection using the Chi-Squared test.\n",
    "\n",
    "    Parameters:\n",
    "    data (pd.DataFrame): The dataset containing features and the target variable.\n",
    "    target (str): The name of the target variable column.\n",
    "    k (int): The number of top features to select.\n",
    "\n",
    "    Returns:\n",
    "    pd.DataFrame: A DataFrame containing the top k features and their Chi-Squared scores.\n",
    "    \"\"\"\n",
    "    X = data.drop(target, axis=1)\n",
    "    y = data[target]\n",
    "    \n",
    "    # Apply SelectKBest class to extract top k best features\n",
    "    bestfeatures = SelectKBest(score_func=chi2, k=k)\n",
    "    fit = bestfeatures.fit(X, y)\n",
    "    \n",
    "    # Get the scores for each feature\n",
    "    dfscores = pd.DataFrame(fit.scores_)\n",
    "    dfcolumns = pd.DataFrame(X.columns)\n",
    "    \n",
    "    # Concatenate the dataframes for better visualization\n",
    "    featuresScores = pd.concat([dfcolumns, dfscores], axis=1)\n",
    "    featuresScores.columns = ['Specs', 'Score']  # Naming the dataframe columns\n",
    "    \n",
    "    return featuresScores.nlargest(k, 'Score')\n",
    "\n",
    "# Example usage:\n",
    "top_features = chi_squared_feature_selection(data, 'target', k=10)\n",
    "print(top_features)"
   ]
  }
 ],
 "metadata": {
  "kernelspec": {
   "display_name": "Python 3",
   "language": "python",
   "name": "python3"
  },
  "language_info": {
   "name": "python",
   "version": "3.10.11"
  }
 },
 "nbformat": 4,
 "nbformat_minor": 2
}
