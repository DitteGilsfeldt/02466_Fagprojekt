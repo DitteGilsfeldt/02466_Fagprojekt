{
 "cells": [
  {
   "cell_type": "code",
   "execution_count": 2,
   "metadata": {},
   "outputs": [],
   "source": [
    "import pandas as pd\n",
    "import numpy as np"
   ]
  },
  {
   "cell_type": "markdown",
   "metadata": {},
   "source": [
    "# Random dataset"
   ]
  },
  {
   "cell_type": "code",
   "execution_count": 3,
   "metadata": {},
   "outputs": [],
   "source": [
    "def random_bool(size):\n",
    "    return np.random.rand(size) > 0.5\n",
    "\n",
    "def random_int(min, max, size):\n",
    "    return np.random.randint(min, max, size=size)\n",
    "\n",
    "def random_float(min, max, size):\n",
    "    return np.random.uniform(min, max, size=size)\n",
    "\n",
    "\n",
    "def index_id(max):\n",
    "    list = []\n",
    "    for i in range(1, max):\n",
    "        list.append('ID' + str(i))\n",
    "    return list"
   ]
  },
  {
   "cell_type": "code",
   "execution_count": 4,
   "metadata": {},
   "outputs": [],
   "source": [
    "pre_op = pd.DataFrame({'IDno': index_id(501), 'Død inden for 1 år af operation': random_bool(500), 'age': random_int(18, 89, 500), 'sex': random_bool(500), 'Respiratory Disease': random_bool(500),\n",
    "       'Circulatory Organ Disease': random_bool(500), 'Type 1 Diabetes': random_bool(500), 'Type 2 Diabetes': random_bool(500),\n",
    "       'Other metabolic diseases': random_bool(500), 'Other operation': random_bool(500), 'Genital or urine related diseases': random_bool(500), 'Vægt': random_float(35, 190,500), 'KFN': random_bool(500), 'KFX': random_bool(500), 'KFK': random_bool(500), 'KFM': random_bool(500),\n",
    "       'KFF': random_bool(500), 'KFP': random_bool(500), 'KFC': random_bool(500), 'KFW': random_bool(500), 'KFJ': random_bool(500), 'Hæmoglobin': random_float(4,12,500), 'Leukocytter': random_float(1, 125, 500),\n",
    "       'Trombocytter': random_float(20, 1000, 500)})\n",
    "pre_op = pre_op.replace(True, 1).replace(False, 0)"
   ]
  },
  {
   "cell_type": "markdown",
   "metadata": {},
   "source": [
    "# Predicting Mortality with pre_op data"
   ]
  },
  {
   "cell_type": "markdown",
   "metadata": {},
   "source": [
    "## LR"
   ]
  },
  {
   "cell_type": "code",
   "execution_count": 25,
   "metadata": {},
   "outputs": [],
   "source": [
    "from sklearn.linear_model import LogisticRegression\n",
    "from sklearn.model_selection import GridSearchCV\n",
    "\n",
    "#TODO other params?\n",
    "def lr_pred(X_train, y_train, X_test):\n",
    "    lr = LogisticRegression()\n",
    "    lr_grid = {'solver': ['lbfgs', 'liblinear', 'newton-cg', 'newton-cholesky', 'sag', 'saga'],\n",
    "            'C': [100, 10, 1.0, 0.1, 0.01],\n",
    "                'max_iter': 200}\n",
    "    \n",
    "    grid_result = GridSearchCV(estimator = lr, param_grid = lr_grid, scoring='precision', cv=5)\n",
    "    grid_result.fit(X_train,y_train)\n",
    "    \n",
    "    best_model = grid_result.best_estimator_ \n",
    "\n",
    "    lr_preds = best_model.predict_proba(X_test)\n",
    "    return lr_preds\n",
    "\n",
    "    #TODO Take Best result of the fit or can i just return the predict "
   ]
  },
  {
   "cell_type": "markdown",
   "metadata": {},
   "source": [
    "## Random forrest"
   ]
  },
  {
   "cell_type": "code",
   "execution_count": 19,
   "metadata": {},
   "outputs": [],
   "source": [
    "from sklearn.ensemble import RandomForestClassifier\n",
    "\n",
    "def rf_pred(X_train, y_train, X_test):\n",
    "    rf = RandomForestClassifier()\n",
    "\n",
    "    rf_grid = {'max_depth': [80, 90, 100, 110],\n",
    "    'max_features': [2,5,10,15,22],\n",
    "    'n_estimators': [100, 200, 300, 1000]}\n",
    "    \n",
    "    grid_result = GridSearchCV(estimator = rf, param_grid = rf_grid, scoring='precision', cv=5)\n",
    "    grid_result.fit(X_train,y_train)\n",
    "    \n",
    "    best_model = grid_result.best_estimator_ \n",
    "\n",
    "    rf_preds = best_model.predict_proba(X_test)\n",
    "    return rf_preds\n",
    "    "
   ]
  },
  {
   "cell_type": "code",
   "execution_count": 24,
   "metadata": {},
   "outputs": [
    {
     "data": {
      "text/plain": [
       "array([[0.17 , 0.83 ],\n",
       "       [0.595, 0.405],\n",
       "       [0.44 , 0.56 ],\n",
       "       [0.75 , 0.25 ],\n",
       "       [0.53 , 0.47 ],\n",
       "       [0.65 , 0.35 ],\n",
       "       [0.545, 0.455],\n",
       "       [0.385, 0.615],\n",
       "       [0.435, 0.565],\n",
       "       [0.75 , 0.25 ],\n",
       "       [0.605, 0.395],\n",
       "       [0.215, 0.785],\n",
       "       [0.455, 0.545],\n",
       "       [0.67 , 0.33 ],\n",
       "       [0.63 , 0.37 ],\n",
       "       [0.27 , 0.73 ],\n",
       "       [0.585, 0.415],\n",
       "       [0.52 , 0.48 ],\n",
       "       [0.5  , 0.5  ],\n",
       "       [0.4  , 0.6  ],\n",
       "       [0.205, 0.795],\n",
       "       [0.76 , 0.24 ],\n",
       "       [0.32 , 0.68 ],\n",
       "       [0.295, 0.705],\n",
       "       [0.24 , 0.76 ],\n",
       "       [0.41 , 0.59 ],\n",
       "       [0.44 , 0.56 ],\n",
       "       [0.295, 0.705],\n",
       "       [0.315, 0.685],\n",
       "       [0.145, 0.855],\n",
       "       [0.455, 0.545],\n",
       "       [0.31 , 0.69 ],\n",
       "       [0.62 , 0.38 ],\n",
       "       [0.48 , 0.52 ],\n",
       "       [0.645, 0.355],\n",
       "       [0.82 , 0.18 ],\n",
       "       [0.51 , 0.49 ],\n",
       "       [0.255, 0.745],\n",
       "       [0.32 , 0.68 ],\n",
       "       [0.46 , 0.54 ],\n",
       "       [0.495, 0.505],\n",
       "       [0.355, 0.645],\n",
       "       [0.58 , 0.42 ],\n",
       "       [0.575, 0.425],\n",
       "       [0.555, 0.445],\n",
       "       [0.575, 0.425],\n",
       "       [0.64 , 0.36 ],\n",
       "       [0.415, 0.585],\n",
       "       [0.59 , 0.41 ],\n",
       "       [0.35 , 0.65 ],\n",
       "       [0.335, 0.665],\n",
       "       [0.655, 0.345],\n",
       "       [0.605, 0.395],\n",
       "       [0.315, 0.685],\n",
       "       [0.175, 0.825],\n",
       "       [0.665, 0.335],\n",
       "       [0.66 , 0.34 ],\n",
       "       [0.45 , 0.55 ],\n",
       "       [0.38 , 0.62 ],\n",
       "       [0.385, 0.615],\n",
       "       [0.32 , 0.68 ],\n",
       "       [0.475, 0.525],\n",
       "       [0.335, 0.665],\n",
       "       [0.23 , 0.77 ],\n",
       "       [0.385, 0.615],\n",
       "       [0.6  , 0.4  ],\n",
       "       [0.56 , 0.44 ],\n",
       "       [0.56 , 0.44 ],\n",
       "       [0.47 , 0.53 ],\n",
       "       [0.32 , 0.68 ],\n",
       "       [0.64 , 0.36 ],\n",
       "       [0.55 , 0.45 ],\n",
       "       [0.355, 0.645],\n",
       "       [0.37 , 0.63 ],\n",
       "       [0.62 , 0.38 ],\n",
       "       [0.255, 0.745],\n",
       "       [0.31 , 0.69 ],\n",
       "       [0.48 , 0.52 ],\n",
       "       [0.205, 0.795],\n",
       "       [0.52 , 0.48 ],\n",
       "       [0.475, 0.525],\n",
       "       [0.195, 0.805],\n",
       "       [0.495, 0.505],\n",
       "       [0.655, 0.345],\n",
       "       [0.295, 0.705],\n",
       "       [0.575, 0.425],\n",
       "       [0.27 , 0.73 ],\n",
       "       [0.44 , 0.56 ],\n",
       "       [0.35 , 0.65 ],\n",
       "       [0.665, 0.335],\n",
       "       [0.575, 0.425],\n",
       "       [0.32 , 0.68 ],\n",
       "       [0.445, 0.555],\n",
       "       [0.24 , 0.76 ],\n",
       "       [0.295, 0.705],\n",
       "       [0.485, 0.515],\n",
       "       [0.54 , 0.46 ],\n",
       "       [0.35 , 0.65 ],\n",
       "       [0.455, 0.545],\n",
       "       [0.36 , 0.64 ],\n",
       "       [0.355, 0.645],\n",
       "       [0.345, 0.655],\n",
       "       [0.555, 0.445],\n",
       "       [0.47 , 0.53 ],\n",
       "       [0.585, 0.415],\n",
       "       [0.445, 0.555],\n",
       "       [0.575, 0.425],\n",
       "       [0.515, 0.485],\n",
       "       [0.41 , 0.59 ],\n",
       "       [0.745, 0.255],\n",
       "       [0.415, 0.585],\n",
       "       [0.715, 0.285],\n",
       "       [0.18 , 0.82 ],\n",
       "       [0.425, 0.575],\n",
       "       [0.39 , 0.61 ],\n",
       "       [0.585, 0.415],\n",
       "       [0.345, 0.655],\n",
       "       [0.37 , 0.63 ],\n",
       "       [0.515, 0.485],\n",
       "       [0.56 , 0.44 ],\n",
       "       [0.52 , 0.48 ],\n",
       "       [0.5  , 0.5  ],\n",
       "       [0.54 , 0.46 ],\n",
       "       [0.55 , 0.45 ],\n",
       "       [0.39 , 0.61 ],\n",
       "       [0.71 , 0.29 ],\n",
       "       [0.5  , 0.5  ],\n",
       "       [0.3  , 0.7  ],\n",
       "       [0.325, 0.675],\n",
       "       [0.31 , 0.69 ],\n",
       "       [0.53 , 0.47 ],\n",
       "       [0.465, 0.535],\n",
       "       [0.455, 0.545],\n",
       "       [0.45 , 0.55 ],\n",
       "       [0.405, 0.595],\n",
       "       [0.36 , 0.64 ],\n",
       "       [0.595, 0.405],\n",
       "       [0.415, 0.585],\n",
       "       [0.325, 0.675],\n",
       "       [0.465, 0.535],\n",
       "       [0.265, 0.735],\n",
       "       [0.375, 0.625],\n",
       "       [0.245, 0.755],\n",
       "       [0.695, 0.305],\n",
       "       [0.48 , 0.52 ],\n",
       "       [0.51 , 0.49 ],\n",
       "       [0.625, 0.375],\n",
       "       [0.45 , 0.55 ],\n",
       "       [0.46 , 0.54 ],\n",
       "       [0.42 , 0.58 ]])"
      ]
     },
     "execution_count": 24,
     "metadata": {},
     "output_type": "execute_result"
    }
   ],
   "source": [
    "from sklearn.model_selection import train_test_split\n",
    "X_train,X_test,y_train,_ = train_test_split(X,y, test_size=0.3)\n",
    "rf_pred(X_train,y_train,X_test)"
   ]
  },
  {
   "cell_type": "markdown",
   "metadata": {},
   "source": [
    "## Gradient boost\n"
   ]
  },
  {
   "cell_type": "markdown",
   "metadata": {},
   "source": [
    "## MLP"
   ]
  },
  {
   "cell_type": "code",
   "execution_count": null,
   "metadata": {},
   "outputs": [],
   "source": []
  },
  {
   "cell_type": "markdown",
   "metadata": {},
   "source": [
    "# Grouped cross-validation"
   ]
  },
  {
   "cell_type": "code",
   "execution_count": 5,
   "metadata": {},
   "outputs": [],
   "source": [
    "from sklearn.model_selection import GroupKFold\n",
    "\n",
    "X = pre_op.loc[:, pre_op.columns != 'Død inden for 1 år af operation']\n",
    "X = X.loc[:, X.columns != 'IDno']\n",
    "y = pre_op['Død inden for 1 år af operation']\n",
    "\n",
    "outer_cv = GroupKFold(n_splits = 5)\n",
    "inner_cv = GroupKFold(n_splits = 5)\n",
    "\n",
    "for outer_train_idx, outer_test_idx in outer_cv.split(X, y, groups = pre_op['IDno']):\n",
    "    X_outer_train, y_outer_train = X.iloc[outer_train_idx], y.iloc[outer_train_idx]\n",
    "    X_outer_test, y_outer_test = X.iloc[outer_test_idx], y.iloc[outer_test_idx]\n",
    "\n",
    "    for inner_train_idx, inner_test_idx in inner_cv.split(X_outer_train, y_outer_train, groups=pre_op['IDno'].iloc[outer_train_idx]):\n",
    "        X_inner_train, y_inner_train = X_outer_train.iloc[inner_train_idx], y_outer_train.iloc[inner_train_idx]\n",
    "        X_inner_test, y_inner_test = X_outer_train.iloc[inner_test_idx], y_outer_train.iloc[inner_test_idx]\n",
    "\n",
    "        #TODO Make the perfomance class that returns PR, AUC, ROC and PRC"
   ]
  }
 ],
 "metadata": {
  "kernelspec": {
   "display_name": "base",
   "language": "python",
   "name": "python3"
  },
  "language_info": {
   "codemirror_mode": {
    "name": "ipython",
    "version": 3
   },
   "file_extension": ".py",
   "mimetype": "text/x-python",
   "name": "python",
   "nbconvert_exporter": "python",
   "pygments_lexer": "ipython3",
   "version": "3.9.0"
  }
 },
 "nbformat": 4,
 "nbformat_minor": 2
}
