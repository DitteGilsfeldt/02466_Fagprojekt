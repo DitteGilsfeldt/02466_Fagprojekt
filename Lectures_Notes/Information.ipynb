{
 "cells": [
  {
   "cell_type": "markdown",
   "metadata": {},
   "source": [
    "**06.06.24**\n",
    "# **Information**"
   ]
  },
  {
   "cell_type": "markdown",
   "metadata": {},
   "source": [
    "**Mundtlig præsentation**\n",
    "- Mundtlig præsentation i 20 minutter\n",
    "  - Kan læse i boget for fagprojektet (SP kap 9)\n",
    "- Vælge det centrale\n",
    "- God idé med general prøve og præsentere for hinanden\n",
    "- Følge repportens struktur til at præsentere projektet. "
   ]
  },
  {
   "cell_type": "markdown",
   "metadata": {},
   "source": [
    "**Video pitch**\n",
    "- max 3 minutters video\n",
    "- Det står os frit for hvordan vi vil lave den her pitch\n",
    "  - Det der står i slide er blot til information\n",
    "- Kan tænkte på det som en nyhedshistorie  \n",
    "  - Nyhedstrekant\n",
    "  - hey-you-see-so, retorik"
   ]
  },
  {
   "cell_type": "markdown",
   "metadata": {},
   "source": [
    "**Afleveringskrav**\n",
    "- Logbog\n",
    "  - Dokumentation og promt om hvordan vi har brugt AI\n",
    "- kig i ... hvad man skal aflevere med rapporten\n",
    "- git log\n",
    "  - shortlog.txt\n",
    "- projekt plan\n",
    "- Husk section om hvordan vi har brugt AI værktøjer\n",
    "- Billag i vores læringsmål\n",
    "  - projekt canvas\n",
    "  - samarbejdsplan\n",
    "\n",
    "**SØRG FOR AT TJEKKE AFLEVRINGSTJEKLISTEN**"
   ]
  }
 ],
 "metadata": {
  "language_info": {
   "name": "python"
  }
 },
 "nbformat": 4,
 "nbformat_minor": 2
}
