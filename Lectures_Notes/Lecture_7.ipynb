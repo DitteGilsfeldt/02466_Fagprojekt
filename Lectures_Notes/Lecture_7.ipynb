{
 "cells": [
  {
   "cell_type": "markdown",
   "metadata": {},
   "source": [
    "## Lecture Note - Uge 7"
   ]
  },
  {
   "cell_type": "markdown",
   "metadata": {},
   "source": [
    "## Aflevering"
   ]
  },
  {
   "cell_type": "markdown",
   "metadata": {},
   "source": [
    "- Introduktion\n",
    "  - Intro 3 til 4 sider lang\n",
    "  - State of the art\n",
    "  - Research\n",
    "- Metode\n",
    "  - Metoder vi bruger, som vi ikke kendte i forvejen og redegøre for dem\n",
    "- Data\n",
    "  - Data grundlag\n",
    "\n",
    "Aflevere uge 9 onsdag.\n",
    "\n",
    "også aflevere prompter\n",
    "\n",
    "Aflevere til feedback gruppe"
   ]
  },
  {
   "cell_type": "markdown",
   "metadata": {},
   "source": [
    "## Forelæsning - AI i lægemiddelstyrrelsen med medicinsk udstyr"
   ]
  },
  {
   "cell_type": "markdown",
   "metadata": {},
   "source": [
    "- AI i beslutningsstøtte.\n",
    "  - Er vores under medicinsk udstyr i AI beslutningsstøtte? \n",
    "- Den skal selv lave logs. Så kan man se hvor den fejler (skal gemmes i et halvt år)\n",
    "- Hvad sker der i mellem indput og output.\n",
    "- Selvlærende AI vs Genrel AI (Selvlærende AI kan være dårligere end geenralt AI)\n",
    "  - I general AI har man fået et certificat\n",
    "- Fortælle hvor meget AI'en kan ændre sig\n",
    "  - De kan ændre sig gradvis\n",
    "- Automayion bais\n",
    "  - Man stoler blindt på outputtet\n",
    "- AI act"
   ]
  },
  {
   "cell_type": "markdown",
   "metadata": {},
   "source": [
    "## Forelæsning om Etik"
   ]
  },
  {
   "cell_type": "markdown",
   "metadata": {},
   "source": [
    "- Husk Etik: Se slide uge 9\n",
    "- Skriv ud fra Sustainable også fra uge 9. \n",
    "- Vores kan være høj risiko\n",
    "- Husk FN verdensmål - sundhed. \n",
    "  - reflekter over om vores går ind i en af verdensmålene\n",
    "- **SKAL** sættes i diskutions afsnit\n",
    "  - Tænke også at nævne lidt om det i introduktion evt\n"
   ]
  }
 ],
 "metadata": {
  "language_info": {
   "name": "python"
  }
 },
 "nbformat": 4,
 "nbformat_minor": 2
}
