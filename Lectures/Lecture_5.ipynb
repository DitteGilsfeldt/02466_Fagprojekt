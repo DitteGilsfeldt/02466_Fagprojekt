{
 "cells": [
  {
   "cell_type": "markdown",
   "metadata": {},
   "source": [
    "# Slide\n",
    "[Slide om reproducibility in science](../Slide/2024%20-%2002466%20-%20reproducerbarhed.pdf)"
   ]
  },
  {
   "cell_type": "markdown",
   "metadata": {},
   "source": [
    "# Notes from Lecture"
   ]
  },
  {
   "cell_type": "markdown",
   "metadata": {},
   "source": [
    "- Overveje om der i et hvis omfag, skal beskriver om vores fagprojket kan være reproducertbart. \n",
    "**Study design**\n",
    "- (ii) each of the studies controlled for plausible confounding variables,\n",
    "- (iii) there is a plausible scientific explanation for the existence of a causal relationship.\n",
    "\n",
    "<img src= \"img/2024-02-28-13-41-54.png\" style=\"width:30rem;\">\\\n",
    "Overvej i ens diskution / conclusion om man kan ende i nogen af ovenstående fælder. Vi har alle bias. "
   ]
  },
  {
   "cell_type": "markdown",
   "metadata": {},
   "source": [
    "**Hvordan gør man alt det her**\n",
    "- Kig på check listen for reproducibility\n",
    "- Skriv hvilken version af python vi bruger\n",
    "- Give kode online, samt vores fiktive dataset\n",
    "- Huske gode kommentarer i koden, så den er til at forstå "
   ]
  },
  {
   "cell_type": "markdown",
   "metadata": {},
   "source": [
    "# Ide til logbog"
   ]
  },
  {
   "cell_type": "markdown",
   "metadata": {},
   "source": [
    "<img src= \"img/2024-02-28-13-57-13.png\" style=\"width:30rem;\">\n",
    "\n",
    "Vi kan evt bruge det her til logbog."
   ]
  },
  {
   "cell_type": "markdown",
   "metadata": {},
   "source": []
  }
 ],
 "metadata": {
  "language_info": {
   "name": "python"
  }
 },
 "nbformat": 4,
 "nbformat_minor": 2
}
