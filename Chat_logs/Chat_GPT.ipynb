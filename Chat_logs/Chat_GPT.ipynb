{
 "cells": [
  {
<<<<<<< HEAD
   "cell_type": "code",
   "execution_count": null,
   "metadata": {},
   "outputs": [],
   "source": []
=======
   "cell_type": "markdown",
   "metadata": {},
   "source": [
    "# **URL til chat GPT logs**"
   ]
>>>>>>> 95409e8a4c3476fdee3e99e7192a510587a89f93
  },
  {
   "cell_type": "markdown",
   "metadata": {},
   "source": [
<<<<<<< HEAD
    "https://chat.openai.com/share/c7f61dc1-f2e4-4c34-8da2-7a6a83dd1757"
=======
    "### 07.02.2024"
   ]
  },
  {
   "cell_type": "markdown",
   "metadata": {},
   "source": [
    "https://chat.openai.com/share/11bd4ed1-a948-41f3-9e2a-54710dfdd414"
>>>>>>> 95409e8a4c3476fdee3e99e7192a510587a89f93
   ]
  }
 ],
 "metadata": {
  "language_info": {
   "name": "python"
  }
 },
 "nbformat": 4,
 "nbformat_minor": 2
}
