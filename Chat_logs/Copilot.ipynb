{
 "cells": [
  {
   "cell_type": "markdown",
   "metadata": {},
   "source": [
    "# **URL af Bing Copilot samtaler**"
   ]
  },
  {
   "cell_type": "markdown",
   "metadata": {},
   "source": [
    "### 14.02.2024\n",
    "14:30"
   ]
  },
  {
   "cell_type": "markdown",
   "metadata": {},
   "source": [
    "\n",
    "https://www.bing.com/search?q=Bing+AI&showconv=1&FORM=hpcodx\n",
    "Dato: 14/02/24\n",
    "Klokkeslet: 14:30\n",
    "\n",
    "\n",
    "\n",
    "Hello, I have this project description: \"Title: Organ failure following cardiac surgery – the use of AI for prediction modelling. Supervisors: Lars Grønlykke and Theis Skovgaard Itenov (Rigshospitalet), Morten Mørup Motivation A series of risk scores exist for cardiac surgery. The most widely used are The European System for Cardiac Operative Risk Evaluation (EuroSCORE 2) and The Society of Thoracic Surgeons (STS) Risk Score. Such risk scores are designed to give the best overall estimates of complication rates, but they lack precision in estimating the risk for the individual patient. Despite these shortcomings these risk scores are still used daily as clinical decision guidance, to provide information to the patient regarding the risk of surgery and to optimize resources in the intensive care unit after surgery. Another drawback to the current risk scores is that they are typically designed to predict mortality, but not morbidity. Project description Every year 1800 patients undergo cardiac surgery at Rigshospitalet. A significant part of these will experience complications that will keep them hospitalized for longer and potentially be fatal. In this project, we will investigate whether AI can be utilized to create more precise prediction models and if it is possible to detect complications earlier. This should ultimately lead to tools that can guide the clinicians, but also the patients when deciding on surgery. Another potential benefit is the better use of resources in the intensive care unit handling these patients postoperatively.\" And I would like to find some relevant key-search words for upcoming research of the project. Can you recommend some?\n",
    "\n",
    "\n",
    "Bing\n",
    "Sure, here are some key search terms that might be relevant to your project:\n",
    "1.\tCardiac Surgery Complications\n",
    "2.\tPostoperative Organ Failure\n",
    "3.\tAI in Predictive Modelling\n",
    "4.\tRisk Scores in Cardiac Surgery\n",
    "5.\tEuroSCORE 2\n",
    "6.\tThe Society of Thoracic Surgeons (STS) Risk Score\n",
    "7.\tIndividual Patient Risk Estimation\n",
    "8.\tMorbidity Prediction Models\n",
    "9.\tOptimization of ICU Resources\n",
    "10.\tEarly Detection of Surgical Complications\n",
    "11.\tAI in Clinical Decision Support\n",
    "These terms should help you find relevant literature and resources for your project. Remember to use different combinations of these terms to broaden your search. Good luck with your research! 📚\n"
   ]
  },
  {
   "cell_type": "markdown",
   "metadata": {},
   "source": [
    "### 14.02.2024\n",
    "14:30"
   ]
  },
  {
   "cell_type": "markdown",
   "metadata": {},
   "source": [
    "\n",
    "\n",
    "https://www.bing.com/search?q=Bing+AI&showconv=1&FORM=hpcodx\n",
    "Dato: 14/02/24\n",
    "Klokkeslet: 14:30\n",
    "\n",
    "\n",
    "\n",
    "Can you expand these keywords for searching? \n",
    "- Prediction model \n",
    "- Comblication rate, before surgery \n",
    "- Lack precision for estimate \n",
    "- Cardiac surgery \n",
    "- Training and AI model \n",
    "- Pytorch for AI \n",
    "- Generated AI \n",
    "- Logistisc regression \n",
    "- Baseline model \n",
    "- Neural Network \n",
    "- Group KNN \n",
    "- Classification \n",
    "- Feature selection \n",
    "- Statistic model for AI \n",
    "- Euro Score (Se vejleder møde 1, under baseline model)\n",
    "\n",
    "Bing\n",
    "Sure, here are some expanded versions of your keywords that might be useful for your research:\n",
    "1.\tPrediction Model in Healthcare\n",
    "2.\tPreoperative Complication Rate in Cardiac Surgery\n",
    "3.\tPrecision of Risk Estimation Models\n",
    "4.\tOutcomes and Complications in Cardiac Surgery\n",
    "5.\tTraining AI Models for Predictive Healthcare\n",
    "6.\tUsing PyTorch for Predictive Modelling in Healthcare\n",
    "7.\tAI-Generated Predictive Models in Medicine\n",
    "8.\tLogistic Regression in Medical Risk Prediction\n",
    "9.\tBaseline Models in Predictive Healthcare\n",
    "10.\tNeural Network Applications in Predictive Healthcare\n",
    "11.\tGroup KNN Classification in Medical Data Analysis\n",
    "12.\tFeature Selection Techniques in Machine Learning for Healthcare\n",
    "13.\tStatistical Models for AI in Healthcare\n",
    "14.\tEuroSCORE as a Baseline Model in Cardiac Surgery Risk Prediction\n",
    "Remember to use different combinations of these terms to broaden your search. Good luck with your research! 📚\n"
   ]
  }
 ],
 "metadata": {
  "language_info": {
   "name": "python"
  }
 },
 "nbformat": 4,
 "nbformat_minor": 2
}
